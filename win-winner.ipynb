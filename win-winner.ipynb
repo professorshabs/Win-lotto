{
 "cells": [
  {
   "cell_type": "code",
   "execution_count": 1,
   "metadata": {},
   "outputs": [],
   "source": [
    "#from selenium import webdriver\n",
    "\n",
    "from requests import get\n",
    "from requests.exceptions import RequestException\n",
    "#from contextlib import closing\n",
    "from bs4 import BeautifulSoup"
   ]
  },
  {
   "cell_type": "code",
   "execution_count": 2,
   "metadata": {},
   "outputs": [],
   "source": [
    "#read page\n",
    "URL = 'https://za.national-lottery.com/daily-lotto/results-archive-2019'\n",
    "page = get(URL)\n"
   ]
  },
  {
   "cell_type": "code",
   "execution_count": 3,
   "metadata": {},
   "outputs": [
    {
     "name": "stdout",
     "output_type": "stream",
     "text": [
      "<div class=\"page\" id=\"content\">\n",
      "<h1>Daily Lotto Results Archive 2019</h1>\n",
      "<p>Click on a result date to view further information on that draw.</p>\n",
      "<table class=\"table daily-lotto\" style=\"width: 100%;\">\n",
      "<tr>\n",
      "<th style=\"text-align: center;\">Draw Date</th></tr></table></div>\n"
     ]
    }
   ],
   "source": [
    "#play around\n",
    "soup = BeautifulSoup(page.content, 'html.parser')\n",
    "results = soup.find(id='content')\n",
    "print(results)"
   ]
  },
  {
   "cell_type": "code",
   "execution_count": 5,
   "metadata": {},
   "outputs": [
    {
     "name": "stdout",
     "output_type": "stream",
     "text": [
      "<div class=\"page\" id=\"content\">\n",
      " <h1>\n",
      "  Daily Lotto Results Archive 2019\n",
      " </h1>\n",
      " <p>\n",
      "  Click on a result date to view further information on that draw.\n",
      " </p>\n",
      " <table class=\"table daily-lotto\" style=\"width: 100%;\">\n",
      "  <tr>\n",
      "   <th style=\"text-align: center;\">\n",
      "    Draw Date\n",
      "   </th>\n",
      "  </tr>\n",
      " </table>\n",
      "</div>\n"
     ]
    }
   ],
   "source": [
    "#even more play\n",
    "print(results.prettify())"
   ]
  },
  {
   "cell_type": "code",
   "execution_count": 6,
   "metadata": {},
   "outputs": [
    {
     "data": {
      "text/plain": [
       "[<table class=\"table daily-lotto\" style=\"width: 100%;\">\n",
       " <tr>\n",
       " <th style=\"text-align: center;\">Draw Date</th></tr></table>]"
      ]
     },
     "execution_count": 6,
     "metadata": {},
     "output_type": "execute_result"
    }
   ],
   "source": [
    "#finishing games here\n",
    "results.find_all( class_='table daily-lotto')"
   ]
  },
  {
   "cell_type": "code",
   "execution_count": 7,
   "metadata": {},
   "outputs": [],
   "source": [
    "import pandas as pd\n",
    "import numpy as np"
   ]
  },
  {
   "cell_type": "code",
   "execution_count": 8,
   "metadata": {},
   "outputs": [],
   "source": [
    "#pandas frame in a list\n",
    "df_list = pd.read_html(page.content)"
   ]
  },
  {
   "cell_type": "code",
   "execution_count": 9,
   "metadata": {},
   "outputs": [
    {
     "data": {
      "text/plain": [
       "[                     Draw Date             Results  Number of Winners\n",
       " 0     Tuesday 31 December 2019     2  4  5  26  29              96574\n",
       " 1      Monday 30 December 2019   7  13  14  17  30              85998\n",
       " 2      Sunday 29 December 2019   4  12  16  34  36              55737\n",
       " 3    Saturday 28 December 2019  23  29  30  31  32              69756\n",
       " 4      Friday 27 December 2019   4  13  16  27  35              85261\n",
       " ..                         ...                 ...                ...\n",
       " 291     Thursday 14 March 2019     1  5  9  26  32              61927\n",
       " 292    Wednesday 13 March 2019   4  10  16  21  35              62994\n",
       " 293      Tuesday 12 March 2019  11  16  17  29  32              51284\n",
       " 294       Monday 11 March 2019   7  10  19  24  32              38409\n",
       " 295       Sunday 10 March 2019    1  7  11  18  34              17089\n",
       " \n",
       " [296 rows x 3 columns]]"
      ]
     },
     "execution_count": 9,
     "metadata": {},
     "output_type": "execute_result"
    }
   ],
   "source": [
    "df_list"
   ]
  },
  {
   "cell_type": "code",
   "execution_count": 10,
   "metadata": {},
   "outputs": [
    {
     "data": {
      "text/plain": [
       "296"
      ]
     },
     "execution_count": 10,
     "metadata": {},
     "output_type": "execute_result"
    }
   ],
   "source": [
    "len(df_list[0]['Draw Date'].unique())"
   ]
  },
  {
   "cell_type": "code",
   "execution_count": 11,
   "metadata": {},
   "outputs": [
    {
     "data": {
      "text/html": [
       "<div>\n",
       "<style scoped>\n",
       "    .dataframe tbody tr th:only-of-type {\n",
       "        vertical-align: middle;\n",
       "    }\n",
       "\n",
       "    .dataframe tbody tr th {\n",
       "        vertical-align: top;\n",
       "    }\n",
       "\n",
       "    .dataframe thead th {\n",
       "        text-align: right;\n",
       "    }\n",
       "</style>\n",
       "<table border=\"1\" class=\"dataframe\">\n",
       "  <thead>\n",
       "    <tr style=\"text-align: right;\">\n",
       "      <th></th>\n",
       "      <th>Draw Date</th>\n",
       "      <th>Results</th>\n",
       "      <th>Number of Winners</th>\n",
       "    </tr>\n",
       "  </thead>\n",
       "  <tbody>\n",
       "    <tr>\n",
       "      <th>0</th>\n",
       "      <td>Tuesday 31 December 2019</td>\n",
       "      <td>2  4  5  26  29</td>\n",
       "      <td>96574</td>\n",
       "    </tr>\n",
       "    <tr>\n",
       "      <th>1</th>\n",
       "      <td>Monday 30 December 2019</td>\n",
       "      <td>7  13  14  17  30</td>\n",
       "      <td>85998</td>\n",
       "    </tr>\n",
       "    <tr>\n",
       "      <th>2</th>\n",
       "      <td>Sunday 29 December 2019</td>\n",
       "      <td>4  12  16  34  36</td>\n",
       "      <td>55737</td>\n",
       "    </tr>\n",
       "    <tr>\n",
       "      <th>3</th>\n",
       "      <td>Saturday 28 December 2019</td>\n",
       "      <td>23  29  30  31  32</td>\n",
       "      <td>69756</td>\n",
       "    </tr>\n",
       "    <tr>\n",
       "      <th>4</th>\n",
       "      <td>Friday 27 December 2019</td>\n",
       "      <td>4  13  16  27  35</td>\n",
       "      <td>85261</td>\n",
       "    </tr>\n",
       "    <tr>\n",
       "      <th>...</th>\n",
       "      <td>...</td>\n",
       "      <td>...</td>\n",
       "      <td>...</td>\n",
       "    </tr>\n",
       "    <tr>\n",
       "      <th>291</th>\n",
       "      <td>Thursday 14 March 2019</td>\n",
       "      <td>1  5  9  26  32</td>\n",
       "      <td>61927</td>\n",
       "    </tr>\n",
       "    <tr>\n",
       "      <th>292</th>\n",
       "      <td>Wednesday 13 March 2019</td>\n",
       "      <td>4  10  16  21  35</td>\n",
       "      <td>62994</td>\n",
       "    </tr>\n",
       "    <tr>\n",
       "      <th>293</th>\n",
       "      <td>Tuesday 12 March 2019</td>\n",
       "      <td>11  16  17  29  32</td>\n",
       "      <td>51284</td>\n",
       "    </tr>\n",
       "    <tr>\n",
       "      <th>294</th>\n",
       "      <td>Monday 11 March 2019</td>\n",
       "      <td>7  10  19  24  32</td>\n",
       "      <td>38409</td>\n",
       "    </tr>\n",
       "    <tr>\n",
       "      <th>295</th>\n",
       "      <td>Sunday 10 March 2019</td>\n",
       "      <td>1  7  11  18  34</td>\n",
       "      <td>17089</td>\n",
       "    </tr>\n",
       "  </tbody>\n",
       "</table>\n",
       "<p>296 rows × 3 columns</p>\n",
       "</div>"
      ],
      "text/plain": [
       "                     Draw Date             Results  Number of Winners\n",
       "0     Tuesday 31 December 2019     2  4  5  26  29              96574\n",
       "1      Monday 30 December 2019   7  13  14  17  30              85998\n",
       "2      Sunday 29 December 2019   4  12  16  34  36              55737\n",
       "3    Saturday 28 December 2019  23  29  30  31  32              69756\n",
       "4      Friday 27 December 2019   4  13  16  27  35              85261\n",
       "..                         ...                 ...                ...\n",
       "291     Thursday 14 March 2019     1  5  9  26  32              61927\n",
       "292    Wednesday 13 March 2019   4  10  16  21  35              62994\n",
       "293      Tuesday 12 March 2019  11  16  17  29  32              51284\n",
       "294       Monday 11 March 2019   7  10  19  24  32              38409\n",
       "295       Sunday 10 March 2019    1  7  11  18  34              17089\n",
       "\n",
       "[296 rows x 3 columns]"
      ]
     },
     "execution_count": 11,
     "metadata": {},
     "output_type": "execute_result"
    }
   ],
   "source": [
    "df_list[0]"
   ]
  },
  {
   "cell_type": "code",
   "execution_count": 12,
   "metadata": {},
   "outputs": [],
   "source": [
    "#get latest 2020 winning numbers\n",
    "url = 'https://za.national-lottery.com/daily-lotto/results-archive-2020'\n",
    "page2 = get(url)"
   ]
  },
  {
   "cell_type": "code",
   "execution_count": 13,
   "metadata": {},
   "outputs": [],
   "source": [
    "#make a pandas frame in a list\n",
    "df_list2 = pd.read_html(page2.content)"
   ]
  },
  {
   "cell_type": "code",
   "execution_count": 14,
   "metadata": {},
   "outputs": [
    {
     "data": {
      "text/html": [
       "<div>\n",
       "<style scoped>\n",
       "    .dataframe tbody tr th:only-of-type {\n",
       "        vertical-align: middle;\n",
       "    }\n",
       "\n",
       "    .dataframe tbody tr th {\n",
       "        vertical-align: top;\n",
       "    }\n",
       "\n",
       "    .dataframe thead th {\n",
       "        text-align: right;\n",
       "    }\n",
       "</style>\n",
       "<table border=\"1\" class=\"dataframe\">\n",
       "  <thead>\n",
       "    <tr style=\"text-align: right;\">\n",
       "      <th></th>\n",
       "      <th>Draw Date</th>\n",
       "      <th>Results</th>\n",
       "      <th>Number of Winners</th>\n",
       "    </tr>\n",
       "  </thead>\n",
       "  <tbody>\n",
       "    <tr>\n",
       "      <th>0</th>\n",
       "      <td>Sunday 13 September 2020</td>\n",
       "      <td>14  16  18  23  29</td>\n",
       "      <td>51662</td>\n",
       "    </tr>\n",
       "    <tr>\n",
       "      <th>1</th>\n",
       "      <td>Saturday 12 September 2020</td>\n",
       "      <td>1  11  16  18  35</td>\n",
       "      <td>83305</td>\n",
       "    </tr>\n",
       "    <tr>\n",
       "      <th>2</th>\n",
       "      <td>Friday 11 September 2020</td>\n",
       "      <td>2  16  25  26  32</td>\n",
       "      <td>94086</td>\n",
       "    </tr>\n",
       "    <tr>\n",
       "      <th>3</th>\n",
       "      <td>Thursday 10 September 2020</td>\n",
       "      <td>3  10  17  21  29</td>\n",
       "      <td>88430</td>\n",
       "    </tr>\n",
       "    <tr>\n",
       "      <th>4</th>\n",
       "      <td>Wednesday 9 September 2020</td>\n",
       "      <td>12  21  28  29  35</td>\n",
       "      <td>85276</td>\n",
       "    </tr>\n",
       "    <tr>\n",
       "      <th>...</th>\n",
       "      <td>...</td>\n",
       "      <td>...</td>\n",
       "      <td>...</td>\n",
       "    </tr>\n",
       "    <tr>\n",
       "      <th>252</th>\n",
       "      <td>Sunday 5 January 2020</td>\n",
       "      <td>5  18  21  23  34</td>\n",
       "      <td>52518</td>\n",
       "    </tr>\n",
       "    <tr>\n",
       "      <th>253</th>\n",
       "      <td>Saturday 4 January 2020</td>\n",
       "      <td>4  14  24  28  30</td>\n",
       "      <td>78188</td>\n",
       "    </tr>\n",
       "    <tr>\n",
       "      <th>254</th>\n",
       "      <td>Friday 3 January 2020</td>\n",
       "      <td>9  14  18  26  30</td>\n",
       "      <td>91047</td>\n",
       "    </tr>\n",
       "    <tr>\n",
       "      <th>255</th>\n",
       "      <td>Thursday 2 January 2020</td>\n",
       "      <td>1  6  16  24  34</td>\n",
       "      <td>82786</td>\n",
       "    </tr>\n",
       "    <tr>\n",
       "      <th>256</th>\n",
       "      <td>Wednesday 1 January 2020</td>\n",
       "      <td>14  17  21  22  29</td>\n",
       "      <td>45782</td>\n",
       "    </tr>\n",
       "  </tbody>\n",
       "</table>\n",
       "<p>257 rows × 3 columns</p>\n",
       "</div>"
      ],
      "text/plain": [
       "                      Draw Date             Results  Number of Winners\n",
       "0      Sunday 13 September 2020  14  16  18  23  29              51662\n",
       "1    Saturday 12 September 2020   1  11  16  18  35              83305\n",
       "2      Friday 11 September 2020   2  16  25  26  32              94086\n",
       "3    Thursday 10 September 2020   3  10  17  21  29              88430\n",
       "4    Wednesday 9 September 2020  12  21  28  29  35              85276\n",
       "..                          ...                 ...                ...\n",
       "252       Sunday 5 January 2020   5  18  21  23  34              52518\n",
       "253     Saturday 4 January 2020   4  14  24  28  30              78188\n",
       "254       Friday 3 January 2020   9  14  18  26  30              91047\n",
       "255     Thursday 2 January 2020    1  6  16  24  34              82786\n",
       "256    Wednesday 1 January 2020  14  17  21  22  29              45782\n",
       "\n",
       "[257 rows x 3 columns]"
      ]
     },
     "execution_count": 14,
     "metadata": {},
     "output_type": "execute_result"
    }
   ],
   "source": [
    "df_list2[0]"
   ]
  },
  {
   "cell_type": "code",
   "execution_count": 15,
   "metadata": {},
   "outputs": [
    {
     "data": {
      "text/plain": [
       "['so', 'to be']"
      ]
     },
     "execution_count": 15,
     "metadata": {},
     "output_type": "execute_result"
    }
   ],
   "source": [
    "'so  to be'.split('  ')"
   ]
  },
  {
   "cell_type": "code",
   "execution_count": 16,
   "metadata": {},
   "outputs": [
    {
     "data": {
      "text/plain": [
       "0      [14, 16, 18, 23, 29]\n",
       "1       [1, 11, 16, 18, 35]\n",
       "2       [2, 16, 25, 26, 32]\n",
       "3       [3, 10, 17, 21, 29]\n",
       "4      [12, 21, 28, 29, 35]\n",
       "               ...         \n",
       "252     [5, 18, 21, 23, 34]\n",
       "253     [4, 14, 24, 28, 30]\n",
       "254     [9, 14, 18, 26, 30]\n",
       "255      [1, 6, 16, 24, 34]\n",
       "256    [14, 17, 21, 22, 29]\n",
       "Name: Results, Length: 257, dtype: object"
      ]
     },
     "execution_count": 16,
     "metadata": {},
     "output_type": "execute_result"
    }
   ],
   "source": [
    "df_list2[0]['Results'].apply(lambda x : x.split('  '))"
   ]
  },
  {
   "cell_type": "code",
   "execution_count": 17,
   "metadata": {},
   "outputs": [],
   "source": [
    "df_list[0]['Results'] =df_list[0]['Results'].apply(lambda x : x.split('  '))"
   ]
  },
  {
   "cell_type": "code",
   "execution_count": 18,
   "metadata": {},
   "outputs": [],
   "source": [
    "df_list2[0]['Results'] =df_list2[0]['Results'].apply(lambda x : x.split('  '))"
   ]
  },
  {
   "cell_type": "code",
   "execution_count": 19,
   "metadata": {},
   "outputs": [
    {
     "data": {
      "text/html": [
       "<div>\n",
       "<style scoped>\n",
       "    .dataframe tbody tr th:only-of-type {\n",
       "        vertical-align: middle;\n",
       "    }\n",
       "\n",
       "    .dataframe tbody tr th {\n",
       "        vertical-align: top;\n",
       "    }\n",
       "\n",
       "    .dataframe thead th {\n",
       "        text-align: right;\n",
       "    }\n",
       "</style>\n",
       "<table border=\"1\" class=\"dataframe\">\n",
       "  <thead>\n",
       "    <tr style=\"text-align: right;\">\n",
       "      <th></th>\n",
       "      <th>Draw Date</th>\n",
       "      <th>Results</th>\n",
       "      <th>Number of Winners</th>\n",
       "    </tr>\n",
       "  </thead>\n",
       "  <tbody>\n",
       "    <tr>\n",
       "      <th>0</th>\n",
       "      <td>Tuesday 31 December 2019</td>\n",
       "      <td>[2, 4, 5, 26, 29]</td>\n",
       "      <td>96574</td>\n",
       "    </tr>\n",
       "    <tr>\n",
       "      <th>1</th>\n",
       "      <td>Monday 30 December 2019</td>\n",
       "      <td>[7, 13, 14, 17, 30]</td>\n",
       "      <td>85998</td>\n",
       "    </tr>\n",
       "    <tr>\n",
       "      <th>2</th>\n",
       "      <td>Sunday 29 December 2019</td>\n",
       "      <td>[4, 12, 16, 34, 36]</td>\n",
       "      <td>55737</td>\n",
       "    </tr>\n",
       "    <tr>\n",
       "      <th>3</th>\n",
       "      <td>Saturday 28 December 2019</td>\n",
       "      <td>[23, 29, 30, 31, 32]</td>\n",
       "      <td>69756</td>\n",
       "    </tr>\n",
       "    <tr>\n",
       "      <th>4</th>\n",
       "      <td>Friday 27 December 2019</td>\n",
       "      <td>[4, 13, 16, 27, 35]</td>\n",
       "      <td>85261</td>\n",
       "    </tr>\n",
       "    <tr>\n",
       "      <th>...</th>\n",
       "      <td>...</td>\n",
       "      <td>...</td>\n",
       "      <td>...</td>\n",
       "    </tr>\n",
       "    <tr>\n",
       "      <th>291</th>\n",
       "      <td>Thursday 14 March 2019</td>\n",
       "      <td>[1, 5, 9, 26, 32]</td>\n",
       "      <td>61927</td>\n",
       "    </tr>\n",
       "    <tr>\n",
       "      <th>292</th>\n",
       "      <td>Wednesday 13 March 2019</td>\n",
       "      <td>[4, 10, 16, 21, 35]</td>\n",
       "      <td>62994</td>\n",
       "    </tr>\n",
       "    <tr>\n",
       "      <th>293</th>\n",
       "      <td>Tuesday 12 March 2019</td>\n",
       "      <td>[11, 16, 17, 29, 32]</td>\n",
       "      <td>51284</td>\n",
       "    </tr>\n",
       "    <tr>\n",
       "      <th>294</th>\n",
       "      <td>Monday 11 March 2019</td>\n",
       "      <td>[7, 10, 19, 24, 32]</td>\n",
       "      <td>38409</td>\n",
       "    </tr>\n",
       "    <tr>\n",
       "      <th>295</th>\n",
       "      <td>Sunday 10 March 2019</td>\n",
       "      <td>[1, 7, 11, 18, 34]</td>\n",
       "      <td>17089</td>\n",
       "    </tr>\n",
       "  </tbody>\n",
       "</table>\n",
       "<p>296 rows × 3 columns</p>\n",
       "</div>"
      ],
      "text/plain": [
       "                     Draw Date               Results  Number of Winners\n",
       "0     Tuesday 31 December 2019     [2, 4, 5, 26, 29]              96574\n",
       "1      Monday 30 December 2019   [7, 13, 14, 17, 30]              85998\n",
       "2      Sunday 29 December 2019   [4, 12, 16, 34, 36]              55737\n",
       "3    Saturday 28 December 2019  [23, 29, 30, 31, 32]              69756\n",
       "4      Friday 27 December 2019   [4, 13, 16, 27, 35]              85261\n",
       "..                         ...                   ...                ...\n",
       "291     Thursday 14 March 2019     [1, 5, 9, 26, 32]              61927\n",
       "292    Wednesday 13 March 2019   [4, 10, 16, 21, 35]              62994\n",
       "293      Tuesday 12 March 2019  [11, 16, 17, 29, 32]              51284\n",
       "294       Monday 11 March 2019   [7, 10, 19, 24, 32]              38409\n",
       "295       Sunday 10 March 2019    [1, 7, 11, 18, 34]              17089\n",
       "\n",
       "[296 rows x 3 columns]"
      ]
     },
     "execution_count": 19,
     "metadata": {},
     "output_type": "execute_result"
    }
   ],
   "source": [
    "df_list[0]"
   ]
  },
  {
   "cell_type": "code",
   "execution_count": 20,
   "metadata": {},
   "outputs": [
    {
     "data": {
      "text/html": [
       "<div>\n",
       "<style scoped>\n",
       "    .dataframe tbody tr th:only-of-type {\n",
       "        vertical-align: middle;\n",
       "    }\n",
       "\n",
       "    .dataframe tbody tr th {\n",
       "        vertical-align: top;\n",
       "    }\n",
       "\n",
       "    .dataframe thead th {\n",
       "        text-align: right;\n",
       "    }\n",
       "</style>\n",
       "<table border=\"1\" class=\"dataframe\">\n",
       "  <thead>\n",
       "    <tr style=\"text-align: right;\">\n",
       "      <th></th>\n",
       "      <th>Draw Date</th>\n",
       "      <th>Results</th>\n",
       "      <th>Number of Winners</th>\n",
       "    </tr>\n",
       "  </thead>\n",
       "  <tbody>\n",
       "    <tr>\n",
       "      <th>0</th>\n",
       "      <td>Sunday 13 September 2020</td>\n",
       "      <td>[14, 16, 18, 23, 29]</td>\n",
       "      <td>51662</td>\n",
       "    </tr>\n",
       "    <tr>\n",
       "      <th>1</th>\n",
       "      <td>Saturday 12 September 2020</td>\n",
       "      <td>[1, 11, 16, 18, 35]</td>\n",
       "      <td>83305</td>\n",
       "    </tr>\n",
       "    <tr>\n",
       "      <th>2</th>\n",
       "      <td>Friday 11 September 2020</td>\n",
       "      <td>[2, 16, 25, 26, 32]</td>\n",
       "      <td>94086</td>\n",
       "    </tr>\n",
       "    <tr>\n",
       "      <th>3</th>\n",
       "      <td>Thursday 10 September 2020</td>\n",
       "      <td>[3, 10, 17, 21, 29]</td>\n",
       "      <td>88430</td>\n",
       "    </tr>\n",
       "    <tr>\n",
       "      <th>4</th>\n",
       "      <td>Wednesday 9 September 2020</td>\n",
       "      <td>[12, 21, 28, 29, 35]</td>\n",
       "      <td>85276</td>\n",
       "    </tr>\n",
       "    <tr>\n",
       "      <th>...</th>\n",
       "      <td>...</td>\n",
       "      <td>...</td>\n",
       "      <td>...</td>\n",
       "    </tr>\n",
       "    <tr>\n",
       "      <th>252</th>\n",
       "      <td>Sunday 5 January 2020</td>\n",
       "      <td>[5, 18, 21, 23, 34]</td>\n",
       "      <td>52518</td>\n",
       "    </tr>\n",
       "    <tr>\n",
       "      <th>253</th>\n",
       "      <td>Saturday 4 January 2020</td>\n",
       "      <td>[4, 14, 24, 28, 30]</td>\n",
       "      <td>78188</td>\n",
       "    </tr>\n",
       "    <tr>\n",
       "      <th>254</th>\n",
       "      <td>Friday 3 January 2020</td>\n",
       "      <td>[9, 14, 18, 26, 30]</td>\n",
       "      <td>91047</td>\n",
       "    </tr>\n",
       "    <tr>\n",
       "      <th>255</th>\n",
       "      <td>Thursday 2 January 2020</td>\n",
       "      <td>[1, 6, 16, 24, 34]</td>\n",
       "      <td>82786</td>\n",
       "    </tr>\n",
       "    <tr>\n",
       "      <th>256</th>\n",
       "      <td>Wednesday 1 January 2020</td>\n",
       "      <td>[14, 17, 21, 22, 29]</td>\n",
       "      <td>45782</td>\n",
       "    </tr>\n",
       "  </tbody>\n",
       "</table>\n",
       "<p>257 rows × 3 columns</p>\n",
       "</div>"
      ],
      "text/plain": [
       "                      Draw Date               Results  Number of Winners\n",
       "0      Sunday 13 September 2020  [14, 16, 18, 23, 29]              51662\n",
       "1    Saturday 12 September 2020   [1, 11, 16, 18, 35]              83305\n",
       "2      Friday 11 September 2020   [2, 16, 25, 26, 32]              94086\n",
       "3    Thursday 10 September 2020   [3, 10, 17, 21, 29]              88430\n",
       "4    Wednesday 9 September 2020  [12, 21, 28, 29, 35]              85276\n",
       "..                          ...                   ...                ...\n",
       "252       Sunday 5 January 2020   [5, 18, 21, 23, 34]              52518\n",
       "253     Saturday 4 January 2020   [4, 14, 24, 28, 30]              78188\n",
       "254       Friday 3 January 2020   [9, 14, 18, 26, 30]              91047\n",
       "255     Thursday 2 January 2020    [1, 6, 16, 24, 34]              82786\n",
       "256    Wednesday 1 January 2020  [14, 17, 21, 22, 29]              45782\n",
       "\n",
       "[257 rows x 3 columns]"
      ]
     },
     "execution_count": 20,
     "metadata": {},
     "output_type": "execute_result"
    }
   ],
   "source": [
    "df_list2[0]"
   ]
  },
  {
   "cell_type": "code",
   "execution_count": 21,
   "metadata": {},
   "outputs": [],
   "source": [
    "#combine 2019 and 2020\n",
    "daily_lotto_2020 = pd.concat([df_list[0],df_list2[0]]).reset_index()"
   ]
  },
  {
   "cell_type": "code",
   "execution_count": 22,
   "metadata": {},
   "outputs": [
    {
     "data": {
      "text/plain": [
       "525"
      ]
     },
     "execution_count": 22,
     "metadata": {},
     "output_type": "execute_result"
    }
   ],
   "source": [
    "229 + 296"
   ]
  },
  {
   "cell_type": "code",
   "execution_count": 23,
   "metadata": {},
   "outputs": [
    {
     "data": {
      "text/html": [
       "<div>\n",
       "<style scoped>\n",
       "    .dataframe tbody tr th:only-of-type {\n",
       "        vertical-align: middle;\n",
       "    }\n",
       "\n",
       "    .dataframe tbody tr th {\n",
       "        vertical-align: top;\n",
       "    }\n",
       "\n",
       "    .dataframe thead th {\n",
       "        text-align: right;\n",
       "    }\n",
       "</style>\n",
       "<table border=\"1\" class=\"dataframe\">\n",
       "  <thead>\n",
       "    <tr style=\"text-align: right;\">\n",
       "      <th></th>\n",
       "      <th>index</th>\n",
       "      <th>Draw Date</th>\n",
       "      <th>Results</th>\n",
       "      <th>Number of Winners</th>\n",
       "    </tr>\n",
       "  </thead>\n",
       "  <tbody>\n",
       "    <tr>\n",
       "      <th>0</th>\n",
       "      <td>0</td>\n",
       "      <td>Tuesday 31 December 2019</td>\n",
       "      <td>[2, 4, 5, 26, 29]</td>\n",
       "      <td>96574</td>\n",
       "    </tr>\n",
       "    <tr>\n",
       "      <th>1</th>\n",
       "      <td>1</td>\n",
       "      <td>Monday 30 December 2019</td>\n",
       "      <td>[7, 13, 14, 17, 30]</td>\n",
       "      <td>85998</td>\n",
       "    </tr>\n",
       "    <tr>\n",
       "      <th>2</th>\n",
       "      <td>2</td>\n",
       "      <td>Sunday 29 December 2019</td>\n",
       "      <td>[4, 12, 16, 34, 36]</td>\n",
       "      <td>55737</td>\n",
       "    </tr>\n",
       "    <tr>\n",
       "      <th>3</th>\n",
       "      <td>3</td>\n",
       "      <td>Saturday 28 December 2019</td>\n",
       "      <td>[23, 29, 30, 31, 32]</td>\n",
       "      <td>69756</td>\n",
       "    </tr>\n",
       "    <tr>\n",
       "      <th>4</th>\n",
       "      <td>4</td>\n",
       "      <td>Friday 27 December 2019</td>\n",
       "      <td>[4, 13, 16, 27, 35]</td>\n",
       "      <td>85261</td>\n",
       "    </tr>\n",
       "    <tr>\n",
       "      <th>...</th>\n",
       "      <td>...</td>\n",
       "      <td>...</td>\n",
       "      <td>...</td>\n",
       "      <td>...</td>\n",
       "    </tr>\n",
       "    <tr>\n",
       "      <th>548</th>\n",
       "      <td>252</td>\n",
       "      <td>Sunday 5 January 2020</td>\n",
       "      <td>[5, 18, 21, 23, 34]</td>\n",
       "      <td>52518</td>\n",
       "    </tr>\n",
       "    <tr>\n",
       "      <th>549</th>\n",
       "      <td>253</td>\n",
       "      <td>Saturday 4 January 2020</td>\n",
       "      <td>[4, 14, 24, 28, 30]</td>\n",
       "      <td>78188</td>\n",
       "    </tr>\n",
       "    <tr>\n",
       "      <th>550</th>\n",
       "      <td>254</td>\n",
       "      <td>Friday 3 January 2020</td>\n",
       "      <td>[9, 14, 18, 26, 30]</td>\n",
       "      <td>91047</td>\n",
       "    </tr>\n",
       "    <tr>\n",
       "      <th>551</th>\n",
       "      <td>255</td>\n",
       "      <td>Thursday 2 January 2020</td>\n",
       "      <td>[1, 6, 16, 24, 34]</td>\n",
       "      <td>82786</td>\n",
       "    </tr>\n",
       "    <tr>\n",
       "      <th>552</th>\n",
       "      <td>256</td>\n",
       "      <td>Wednesday 1 January 2020</td>\n",
       "      <td>[14, 17, 21, 22, 29]</td>\n",
       "      <td>45782</td>\n",
       "    </tr>\n",
       "  </tbody>\n",
       "</table>\n",
       "<p>553 rows × 4 columns</p>\n",
       "</div>"
      ],
      "text/plain": [
       "     index                  Draw Date               Results  Number of Winners\n",
       "0        0   Tuesday 31 December 2019     [2, 4, 5, 26, 29]              96574\n",
       "1        1    Monday 30 December 2019   [7, 13, 14, 17, 30]              85998\n",
       "2        2    Sunday 29 December 2019   [4, 12, 16, 34, 36]              55737\n",
       "3        3  Saturday 28 December 2019  [23, 29, 30, 31, 32]              69756\n",
       "4        4    Friday 27 December 2019   [4, 13, 16, 27, 35]              85261\n",
       "..     ...                        ...                   ...                ...\n",
       "548    252      Sunday 5 January 2020   [5, 18, 21, 23, 34]              52518\n",
       "549    253    Saturday 4 January 2020   [4, 14, 24, 28, 30]              78188\n",
       "550    254      Friday 3 January 2020   [9, 14, 18, 26, 30]              91047\n",
       "551    255    Thursday 2 January 2020    [1, 6, 16, 24, 34]              82786\n",
       "552    256   Wednesday 1 January 2020  [14, 17, 21, 22, 29]              45782\n",
       "\n",
       "[553 rows x 4 columns]"
      ]
     },
     "execution_count": 23,
     "metadata": {},
     "output_type": "execute_result"
    }
   ],
   "source": [
    "daily_lotto_2020"
   ]
  },
  {
   "cell_type": "code",
   "execution_count": 24,
   "metadata": {},
   "outputs": [
    {
     "data": {
      "text/plain": [
       "5.0"
      ]
     },
     "execution_count": 24,
     "metadata": {},
     "output_type": "execute_result"
    }
   ],
   "source": [
    "2635/527 "
   ]
  },
  {
   "cell_type": "code",
   "execution_count": 25,
   "metadata": {},
   "outputs": [
    {
     "data": {
      "text/html": [
       "<div>\n",
       "<style scoped>\n",
       "    .dataframe tbody tr th:only-of-type {\n",
       "        vertical-align: middle;\n",
       "    }\n",
       "\n",
       "    .dataframe tbody tr th {\n",
       "        vertical-align: top;\n",
       "    }\n",
       "\n",
       "    .dataframe thead th {\n",
       "        text-align: right;\n",
       "    }\n",
       "</style>\n",
       "<table border=\"1\" class=\"dataframe\">\n",
       "  <thead>\n",
       "    <tr style=\"text-align: right;\">\n",
       "      <th></th>\n",
       "      <th>index</th>\n",
       "      <th>Draw Date</th>\n",
       "      <th>Results</th>\n",
       "      <th>Number of Winners</th>\n",
       "    </tr>\n",
       "  </thead>\n",
       "  <tbody>\n",
       "    <tr>\n",
       "      <th>413</th>\n",
       "      <td>117</td>\n",
       "      <td>Tuesday 19 May 2020</td>\n",
       "      <td>[19, 24, 25, 27, 31]</td>\n",
       "      <td>9652</td>\n",
       "    </tr>\n",
       "  </tbody>\n",
       "</table>\n",
       "</div>"
      ],
      "text/plain": [
       "     index            Draw Date               Results  Number of Winners\n",
       "413    117  Tuesday 19 May 2020  [19, 24, 25, 27, 31]               9652"
      ]
     },
     "execution_count": 25,
     "metadata": {},
     "output_type": "execute_result"
    }
   ],
   "source": [
    "#get day with the least wins\n",
    "daily_lotto_2020[daily_lotto_2020['Number of Winners']==daily_lotto_2020['Number of Winners'].min()]"
   ]
  },
  {
   "cell_type": "code",
   "execution_count": 26,
   "metadata": {},
   "outputs": [
    {
     "data": {
      "text/html": [
       "<div>\n",
       "<style scoped>\n",
       "    .dataframe tbody tr th:only-of-type {\n",
       "        vertical-align: middle;\n",
       "    }\n",
       "\n",
       "    .dataframe tbody tr th {\n",
       "        vertical-align: top;\n",
       "    }\n",
       "\n",
       "    .dataframe thead th {\n",
       "        text-align: right;\n",
       "    }\n",
       "</style>\n",
       "<table border=\"1\" class=\"dataframe\">\n",
       "  <thead>\n",
       "    <tr style=\"text-align: right;\">\n",
       "      <th></th>\n",
       "      <th>index</th>\n",
       "      <th>Draw Date</th>\n",
       "      <th>Results</th>\n",
       "      <th>Number of Winners</th>\n",
       "    </tr>\n",
       "  </thead>\n",
       "  <tbody>\n",
       "    <tr>\n",
       "      <th>213</th>\n",
       "      <td>213</td>\n",
       "      <td>Friday 31 May 2019</td>\n",
       "      <td>[2, 4, 25, 35, 36]</td>\n",
       "      <td>157391</td>\n",
       "    </tr>\n",
       "  </tbody>\n",
       "</table>\n",
       "</div>"
      ],
      "text/plain": [
       "     index           Draw Date             Results  Number of Winners\n",
       "213    213  Friday 31 May 2019  [2, 4, 25, 35, 36]             157391"
      ]
     },
     "execution_count": 26,
     "metadata": {},
     "output_type": "execute_result"
    }
   ],
   "source": [
    "#day with most wins \n",
    "daily_lotto_2020[daily_lotto_2020['Number of Winners']==daily_lotto_2020['Number of Winners'].max()]"
   ]
  },
  {
   "cell_type": "code",
   "execution_count": 65,
   "metadata": {},
   "outputs": [
    {
     "data": {
      "text/plain": [
       "376992"
      ]
     },
     "execution_count": 65,
     "metadata": {},
     "output_type": "execute_result"
    }
   ],
   "source": [
    "#number of all possible combinations\n",
    "from math import comb\n",
    "comb(36,5)"
   ]
  },
  {
   "cell_type": "code",
   "execution_count": 28,
   "metadata": {},
   "outputs": [
    {
     "data": {
      "text/plain": [
       "553"
      ]
     },
     "execution_count": 28,
     "metadata": {},
     "output_type": "execute_result"
    }
   ],
   "source": [
    "#days since first daily lotto\n",
    "len(list(daily_lotto_2020['Results']))"
   ]
  },
  {
   "cell_type": "code",
   "execution_count": 29,
   "metadata": {},
   "outputs": [
    {
     "data": {
      "text/plain": [
       "['2', '4', '5', '26', '29', '7', '13', '14', '17', '30']"
      ]
     },
     "execution_count": 29,
     "metadata": {},
     "output_type": "execute_result"
    }
   ],
   "source": [
    "daily_lotto_2020['Results'][0]+daily_lotto_2020['Results'][1]"
   ]
  },
  {
   "cell_type": "code",
   "execution_count": 30,
   "metadata": {},
   "outputs": [],
   "source": [
    "import json\n",
    "a = json.dumps(daily_lotto_2020['Results'][0])"
   ]
  },
  {
   "cell_type": "code",
   "execution_count": 31,
   "metadata": {},
   "outputs": [
    {
     "data": {
      "text/plain": [
       "'[\"2\", \"4\", \"5\", \"26\", \"29\"]'"
      ]
     },
     "execution_count": 31,
     "metadata": {},
     "output_type": "execute_result"
    }
   ],
   "source": [
    "a"
   ]
  },
  {
   "cell_type": "code",
   "execution_count": 32,
   "metadata": {},
   "outputs": [
    {
     "data": {
      "text/plain": [
       "['2', '4', '5', '26', '29']"
      ]
     },
     "execution_count": 32,
     "metadata": {},
     "output_type": "execute_result"
    }
   ],
   "source": [
    "json.loads(a)"
   ]
  },
  {
   "cell_type": "code",
   "execution_count": 33,
   "metadata": {},
   "outputs": [
    {
     "name": "stdout",
     "output_type": "stream",
     "text": [
      "['2', '4', '5', '26', '29', '7', '13', '14', '17', '30', '4', '12', '16', '34', '36', '23', '29', '30', '31', '32', '4', '13', '16', '27', '35', '6', '12', '23', '25', '36', '8', '11', '16', '22', '25', '5', '11', '19', '21', '36', '2', '12', '13', '22', '35', '3', '17', '24', '31', '34', '3', '7', '20', '21', '35', '1', '5', '9', '15', '23', '5', '11', '21', '32', '35', '5', '12', '16', '20', '25', '8', '10', '20', '22', '27', '4', '19', '20', '30', '35', '5', '6', '7', '22', '34', '6', '9', '21', '24', '36', '11', '20', '27', '31', '36', '5', '9', '11', '15', '23', '5', '7', '19', '31', '33', '4', '14', '22', '25', '27', '6', '8', '9', '22', '36', '8', '9', '22', '28', '35', '2', '21', '29', '30', '36', '1', '16', '21', '33', '36', '3', '6', '9', '10', '11', '4', '8', '22', '25', '33', '1', '21', '30', '31', '36', '3', '4', '14', '26', '30', '16', '22', '26', '29', '34', '22', '23', '28', '33', '36', '4', '12', '17', '28', '34', '9', '25', '34', '35', '36', '2', '7', '15', '26', '35', '4', '8', '18', '19', '34', '6', '12', '19', '27', '34', '11', '22', '27', '29', '31', '6', '15', '19', '22', '32', '4', '11', '12', '21', '23', '4', '8', '19', '24', '30', '21', '23', '25', '27', '34', '7', '14', '20', '24', '36', '6', '16', '18', '23', '33', '1', '2', '9', '19', '31', '5', '7', '16', '26', '31', '8', '12', '15', '21', '26', '7', '13', '17', '23', '25', '2', '7', '9', '14', '30', '9', '13', '26', '31', '34', '10', '20', '23', '32', '34', '1', '2', '7', '32', '36', '13', '23', '30', '32', '33', '3', '5', '19', '30', '32', '2', '16', '20', '22', '28', '5', '9', '13', '25', '35', '6', '8', '21', '33', '34', '6', '21', '24', '28', '36', '2', '12', '20', '24', '31', '6', '9', '15', '22', '30', '12', '15', '17', '21', '36', '18', '21', '24', '30', '32', '2', '5', '6', '7', '9', '18', '23', '28', '34', '36', '5', '6', '7', '9', '28', '2', '9', '22', '33', '36', '10', '16', '19', '29', '31', '1', '3', '10', '32', '35', '4', '17', '21', '29', '30', '2', '8', '18', '23', '32', '19', '27', '28', '29', '34', '6', '16', '17', '19', '34', '8', '11', '16', '26', '30', '2', '13', '15', '18', '36', '4', '18', '20', '25', '31', '2', '9', '17', '22', '25', '9', '15', '18', '25', '27', '6', '11', '19', '22', '31', '5', '7', '8', '25', '27', '1', '17', '18', '28', '36', '10', '11', '14', '22', '24', '5', '6', '22', '28', '36', '13', '20', '29', '32', '35', '13', '15', '24', '27', '31', '21', '22', '24', '25', '36', '2', '8', '10', '12', '27', '3', '6', '9', '24', '33', '1', '3', '9', '26', '32', '6', '7', '13', '21', '23', '2', '17', '26', '32', '33', '11', '17', '27', '28', '34', '3', '4', '8', '18', '25', '6', '12', '13', '19', '31', '8', '9', '28', '31', '33', '19', '21', '22', '28', '33', '3', '11', '14', '24', '27', '4', '12', '13', '23', '28', '10', '27', '31', '34', '35', '2', '20', '21', '29', '30', '2', '10', '14', '25', '27', '14', '17', '23', '28', '29', '7', '23', '26', '31', '34', '10', '12', '15', '16', '23', '10', '12', '15', '23', '25', '12', '20', '27', '34', '36', '11', '12', '21', '23', '27', '2', '3', '9', '12', '27', '8', '11', '14', '15', '35', '5', '25', '29', '30', '33', '4', '6', '20', '24', '29', '1', '16', '21', '26', '32', '1', '3', '11', '15', '33', '3', '10', '12', '19', '23', '10', '12', '15', '19', '27', '2', '4', '14', '25', '29', '6', '10', '25', '26', '27', '1', '9', '12', '22', '29', '5', '20', '23', '24', '36', '1', '4', '10', '18', '30', '14', '17', '24', '26', '33', '2', '3', '16', '29', '36', '6', '8', '13', '22', '29', '17', '24', '26', '33', '36', '2', '5', '9', '13', '34', '14', '20', '22', '26', '31', '2', '5', '12', '27', '29', '17', '27', '28', '29', '36', '12', '15', '16', '17', '18', '16', '23', '26', '27', '33', '7', '20', '23', '29', '35', '7', '18', '23', '29', '32', '6', '13', '21', '26', '32', '1', '2', '22', '31', '35', '2', '9', '11', '18', '20', '2', '6', '15', '16', '29', '2', '5', '8', '16', '26', '4', '19', '21', '24', '34', '2', '9', '23', '32', '36', '7', '18', '21', '28', '31', '2', '12', '26', '28', '33', '6', '15', '17', '23', '30', '5', '14', '20', '26', '34', '3', '13', '22', '28', '32', '14', '15', '16', '17', '27', '3', '6', '7', '21', '29', '7', '9', '15', '16', '26', '10', '13', '15', '24', '28', '10', '15', '20', '23', '36', '3', '8', '21', '30', '35', '13', '14', '27', '29', '34', '3', '15', '21', '29', '32', '12', '21', '25', '33', '36', '5', '11', '13', '19', '35', '1', '7', '12', '13', '25', '6', '14', '15', '17', '33', '2', '3', '10', '12', '35', '3', '18', '19', '31', '35', '13', '19', '27', '35', '36', '2', '5', '13', '16', '21', '5', '14', '18', '28', '29', '2', '6', '17', '26', '34', '6', '9', '15', '24', '28', '9', '14', '20', '29', '35', '9', '13', '22', '31', '35', '6', '10', '11', '28', '31', '4', '20', '28', '29', '36', '4', '19', '29', '32', '35', '8', '11', '18', '25', '26', '8', '16', '20', '22', '30', '11', '23', '26', '27', '33', '2', '3', '9', '31', '32', '6', '8', '19', '21', '24', '3', '10', '25', '35', '36', '7', '9', '23', '26', '27', '15', '22', '24', '27', '31', '4', '8', '13', '20', '31', '2', '6', '9', '13', '25', '2', '11', '12', '16', '24', '2', '20', '24', '27', '33', '1', '3', '5', '18', '35', '1', '7', '9', '24', '26', '8', '13', '14', '28', '35', '2', '10', '13', '26', '33', '4', '10', '17', '21', '27', '1', '5', '9', '15', '27', '8', '9', '10', '21', '36', '4', '6', '25', '31', '36', '15', '26', '32', '33', '36', '1', '3', '4', '16', '18', '4', '7', '19', '23', '30', '7', '14', '15', '23', '24', '2', '11', '25', '33', '35', '7', '14', '26', '27', '35', '19', '23', '26', '28', '33', '4', '8', '17', '18', '30', '3', '10', '12', '25', '32', '8', '9', '17', '20', '28', '8', '14', '20', '29', '33', '13', '15', '21', '28', '33', '1', '2', '4', '18', '32', '3', '18', '19', '27', '34', '6', '17', '20', '33', '34', '4', '13', '14', '18', '30', '7', '22', '25', '28', '35', '13', '22', '32', '34', '35', '5', '18', '28', '31', '36', '6', '15', '23', '24', '28', '15', '17', '30', '35', '36', '6', '9', '20', '28', '36', '16', '22', '29', '33', '35', '3', '6', '10', '22', '23', '3', '16', '18', '24', '25', '12', '14', '19', '26', '34', '2', '4', '25', '35', '36', '5', '6', '11', '23', '30', '19', '20', '28', '32', '33', '9', '13', '14', '15', '25', '2', '5', '17', '19', '21', '9', '15', '16', '27', '30', '6', '10', '21', '31', '34', '2', '9', '11', '20', '31', '1', '16', '17', '29', '36', '6', '11', '14', '15', '25', '2', '12', '26', '28', '34', '11', '22', '25', '28', '31', '1', '12', '21', '33', '34', '7', '15', '21', '31', '33', '10', '15', '20', '26', '29', '5', '14', '18', '33', '34', '6', '7', '13', '17', '32', '4', '6', '20', '22', '25', '8', '16', '24', '28', '32', '1', '6', '17', '33', '36', '6', '7', '11', '28', '36', '5', '9', '19', '26', '31', '8', '13', '18', '19', '34', '6', '7', '15', '21', '22', '3', '11', '12', '22', '25', '14', '16', '25', '29', '32', '5', '26', '29', '32', '34', '11', '15', '17', '25', '26', '5', '8', '24', '27', '35', '5', '8', '14', '16', '24', '2', '4', '6', '29', '33', '3', '5', '20', '25', '28', '5', '15', '16', '25', '36', '18', '26', '30', '32', '34', '13', '18', '21', '28', '29', '1', '23', '28', '33', '34', '4', '14', '19', '28', '33', '8', '12', '18', '19', '24', '2', '8', '11', '35', '36', '9', '16', '20', '21', '30', '1', '2', '7', '9', '29', '3', '6', '24', '30', '36', '3', '5', '15', '19', '24', '10', '12', '14', '20', '22', '8', '23', '27', '32', '34', '2', '7', '17', '24', '27', '4', '5', '19', '28', '33', '3', '17', '23', '24', '26', '5', '18', '30', '33', '34', '4', '8', '19', '34', '36', '1', '7', '14', '19', '29', '5', '10', '15', '24', '29', '6', '16', '24', '30', '31', '11', '13', '15', '19', '31', '6', '20', '23', '34', '35', '4', '17', '24', '25', '36', '13', '15', '27', '35', '36', '1', '3', '10', '16', '36', '8', '14', '16', '33', '34', '5', '21', '22', '26', '32', '3', '10', '23', '25', '36', '1', '15', '23', '32', '34', '16', '17', '24', '25', '30', '1', '5', '6', '27', '31', '7', '20', '30', '31', '34', '4', '5', '10', '12', '25', '2', '9', '13', '30', '32', '10', '11', '12', '19', '23', '1', '21', '24', '28', '29', '3', '7', '10', '13', '17', '9', '12', '17', '33', '35', '2', '7', '10', '14', '23', '2', '16', '19', '29', '33', '7', '9', '11', '19', '26', '1', '18', '29', '33', '36', '5', '9', '15', '21', '36', '2', '5', '16', '18', '19', '9', '10', '12', '25', '27', '1', '5', '9', '26', '32', '4', '10', '16', '21', '35', '11', '16', '17', '29', '32', '7', '10', '19', '24', '32', '1', '7', '11', '18', '34', '14', '16', '18', '23', '29', '1', '11', '16', '18', '35', '2', '16', '25', '26', '32', '3', '10', '17', '21', '29', '12', '21', '28', '29', '35', '4', '8', '9', '18', '30', '1', '3', '16', '30', '34', '18', '20', '30', '32', '34', '12', '14', '22', '23', '25', '5', '9', '14', '16', '17', '8', '14', '16', '22', '27', '5', '14', '20', '22', '25', '14', '17', '23', '31', '32', '1', '18', '22', '26', '36', '3', '5', '13', '15', '25', '15', '18', '23', '24', '36', '5', '8', '12', '17', '30', '1', '15', '30', '33', '34', '9', '17', '24', '30', '35', '16', '20', '29', '33', '35', '3', '13', '18', '19', '28', '7', '16', '21', '26', '36', '3', '13', '16', '22', '27', '3', '6', '12', '32', '36', '24', '26', '30', '31', '32', '1', '8', '9', '19', '36', '11', '17', '19', '20', '30', '13', '14', '15', '24', '31', '9', '25', '27', '28', '34', '10', '16', '21', '24', '34', '1', '10', '12', '19', '29', '1', '6', '13', '29', '31', '1', '2', '4', '18', '30', '4', '13', '20', '22', '30', '4', '20', '29', '32', '33', '1', '5', '6', '10', '21', '30', '31', '32', '34', '36', '12', '13', '22', '31', '34', '6', '17', '25', '30', '31', '3', '8', '11', '12', '26', '6', '9', '11', '26', '35', '8', '14', '15', '16', '33', '4', '5', '11', '13', '27', '4', '6', '18', '21', '33', '2', '8', '11', '17', '18', '1', '5', '12', '14', '34', '6', '8', '10', '30', '33', '10', '24', '29', '31', '36', '14', '19', '23', '26', '35', '9', '25', '32', '35', '36', '1', '6', '7', '15', '31', '3', '11', '20', '22', '34', '16', '25', '27', '29', '30', '1', '5', '16', '22', '26', '1', '7', '24', '29', '34', '1', '11', '14', '20', '23', '11', '12', '18', '27', '29', '1', '2', '9', '26', '35', '10', '12', '25', '31', '32', '1', '13', '14', '35', '36', '3', '10', '18', '20', '28', '7', '9', '10', '28', '32', '1', '21', '23', '27', '32', '4', '12', '14', '18', '29', '14', '15', '20', '24', '32', '13', '22', '29', '33', '36', '1', '5', '10', '25', '33', '2', '10', '17', '33', '35', '1', '25', '30', '31', '35', '1', '8', '9', '12', '26', '2', '16', '21', '23', '28', '4', '25', '30', '34', '35', '7', '11', '17', '33', '34', '10', '17', '25', '27', '29', '5', '24', '33', '35', '36', '10', '21', '22', '28', '30', '4', '8', '29', '31', '35', '1', '13', '22', '23', '27', '13', '24', '29', '34', '35', '1', '9', '13', '15', '23', '5', '9', '25', '29', '33', '18', '25', '26', '27', '31', '4', '14', '15', '27', '31', '6', '12', '20', '33', '34', '12', '28', '33', '35', '36', '2', '5', '7', '8', '25', '9', '14', '24', '28', '36', '12', '14', '19', '22', '30', '14', '15', '18', '25', '30', '4', '9', '18', '22', '32', '18', '21', '28', '29', '30', '2', '7', '12', '30', '33', '3', '8', '19', '22', '26', '3', '5', '25', '26', '35', '1', '18', '29', '30', '36', '2', '5', '9', '12', '22', '1', '23', '31', '35', '36', '2', '15', '28', '31', '32', '17', '22', '23', '28', '33', '3', '5', '6', '8', '23', '1', '5', '9', '27', '34', '4', '13', '22', '25', '33', '13', '21', '24', '25', '26', '7', '8', '23', '34', '36', '8', '14', '15', '22', '36', '12', '23', '25', '27', '34', '5', '12', '14', '20', '23', '9', '13', '15', '20', '34', '9', '12', '20', '25', '26', '1', '19', '22', '34', '36', '5', '12', '14', '17', '25', '15', '25', '27', '34', '36', '11', '19', '20', '21', '23', '3', '9', '12', '13', '31', '2', '15', '27', '31', '33', '8', '13', '15', '21', '25', '16', '24', '26', '28', '33', '19', '24', '25', '27', '31', '7', '16', '18', '19', '30', '3', '13', '14', '17', '24', '7', '14', '16', '22', '32', '3', '12', '14', '16', '29', '2', '11', '12', '22', '28', '6', '15', '18', '27', '31', '5', '15', '18', '20', '31', '12', '13', '28', '30', '31', '3', '7', '10', '22', '35', '14', '15', '19', '21', '32', '20', '25', '28', '34', '35', '9', '12', '24', '25', '34', '12', '28', '34', '35', '36', '3', '6', '21', '26', '29', '7', '10', '25', '26', '33', '12', '18', '22', '24', '26', '4', '17', '21', '26', '31', '1', '12', '18', '19', '24', '4', '6', '15', '33', '35', '1', '16', '19', '20', '29', '1', '3', '17', '21', '22', '9', '11', '13', '14', '19', '5', '9', '29', '30', '36', '9', '12', '29', '31', '34', '1', '13', '20', '26', '28', '1', '7', '14', '17', '22', '3', '8', '22', '23', '28', '5', '7', '19', '22', '25', '4', '10', '23', '27', '36', '7', '10', '14', '17', '30', '2', '4', '8', '15', '22', '1', '6', '29', '30', '31', '15', '18', '19', '21', '31', '3', '15', '23', '26', '36', '1', '14', '19', '25', '36', '23', '24', '27', '31', '33', '1', '5', '10', '25', '29', '5', '11', '14', '21', '29', '5', '14', '16', '27', '29', '10', '21', '32', '34', '36', '2', '9', '17', '20', '32', '7', '11', '12', '23', '24', '8', '22', '26', '33', '35', '6', '11', '20', '29', '36', '1', '2', '19', '26', '33', '2', '12', '24', '25', '31', '10', '11', '14', '15', '29', '5', '8', '11', '20', '32', '2', '7', '20', '21', '35', '6', '14', '16', '27', '30', '4', '6', '13', '25', '26', '4', '10', '14', '25', '32', '7', '15', '21', '27', '33', '22', '24', '31', '32', '36', '2', '7', '10', '15', '22', '9', '13', '22', '31', '34', '7', '11', '19', '24', '35', '2', '5', '20', '23', '30', '5', '11', '15', '31', '36', '3', '9', '18', '19', '22', '2', '14', '16', '32', '33', '3', '5', '6', '11', '36', '2', '10', '15', '16', '20', '1', '3', '5', '14', '22', '1', '12', '13', '34', '36', '16', '20', '29', '32', '33', '3', '12', '13', '20', '35', '2', '12', '18', '32', '36', '2', '8', '10', '24', '34', '2', '11', '13', '17', '20', '10', '14', '16', '31', '36', '9', '15', '28', '32', '34', '3', '15', '16', '21', '30', '4', '5', '10', '22', '29', '19', '20', '21', '33', '34', '9', '12', '28', '34', '36', '4', '10', '16', '18', '33', '4', '13', '14', '20', '34', '2', '8', '10', '15', '23', '7', '16', '20', '28', '35', '10', '29', '30', '31', '35', '3', '5', '19', '25', '26', '11', '21', '29', '32', '33', '5', '8', '10', '13', '19', '9', '14', '29', '31', '33', '4', '5', '11', '12', '27', '5', '18', '20', '27', '34', '10', '12', '15', '25', '29', '3', '5', '12', '27', '33', '4', '6', '14', '26', '29', '7', '8', '23', '30', '32', '5', '19', '21', '22', '32', '2', '25', '29', '32', '33', '1', '20', '22', '24', '30', '4', '6', '13', '14', '29', '5', '6', '10', '16', '22', '3', '8', '12', '23', '30', '12', '13', '15', '26', '28', '4', '14', '22', '25', '27', '9', '11', '18', '24', '29', '1', '5', '15', '35', '36', '6', '13', '27', '34', '36', '2', '4', '6', '9', '12', '7', '24', '25', '27', '34', '1', '4', '14', '20', '25', '5', '6', '12', '28', '36', '4', '8', '14', '29', '35', '4', '5', '7', '12', '23', '7', '9', '14', '15', '36', '2', '6', '29', '32', '35', '3', '5', '21', '32', '35', '6', '12', '22', '30', '34', '7', '12', '19', '32', '36', '3', '6', '12', '17', '29', '3', '5', '7', '10', '15', '1', '11', '16', '24', '31', '6', '18', '24', '28', '30', '4', '6', '7', '14', '25', '5', '21', '25', '30', '32', '5', '8', '16', '33', '34', '2', '9', '10', '13', '25', '1', '9', '10', '16', '17', '9', '10', '24', '31', '34', '12', '17', '31', '35', '36', '6', '8', '11', '12', '22', '7', '11', '19', '28', '32', '1', '3', '10', '17', '21', '22', '26', '29', '33', '35', '6', '7', '21', '25', '36', '1', '11', '12', '27', '35', '8', '11', '16', '24', '27', '6', '8', '9', '11', '20', '2', '3', '24', '26', '35', '8', '14', '25', '26', '28', '5', '18', '21', '23', '34', '4', '14', '24', '28', '30', '9', '14', '18', '26', '30', '1', '6', '16', '24', '34', '14', '17', '21', '22', '29']\n",
      "2765\n"
     ]
    }
   ],
   "source": [
    "#all winning numbers\n",
    "all_nums = []\n",
    "for i in daily_lotto_2020['Results']:\n",
    "    all_nums  +=i\n",
    "print(all_nums)\n",
    "print(len(all_nums))"
   ]
  },
  {
   "cell_type": "code",
   "execution_count": 34,
   "metadata": {},
   "outputs": [
    {
     "name": "stdout",
     "output_type": "stream",
     "text": [
      "17 : 62\n",
      "11 : 67\n",
      "18 : 67\n",
      "8 : 68\n",
      "4 : 69\n",
      "3 : 69\n",
      "7 : 70\n",
      "19 : 70\n",
      "28 : 71\n",
      "13 : 72\n",
      "23 : 72\n",
      "32 : 72\n",
      "27 : 72\n",
      "30 : 73\n",
      "20 : 73\n",
      "26 : 74\n",
      "31 : 75\n",
      "35 : 75\n",
      "24 : 75\n",
      "10 : 75\n",
      "16 : 76\n",
      "21 : 76\n",
      "1 : 77\n",
      "33 : 79\n",
      "2 : 81\n",
      "15 : 82\n",
      "6 : 83\n",
      "22 : 83\n",
      "34 : 84\n",
      "14 : 85\n",
      "9 : 86\n",
      "29 : 89\n",
      "12 : 89\n",
      "5 : 91\n",
      "25 : 91\n",
      "36 : 92\n"
     ]
    }
   ],
   "source": [
    "# Python program to count the frequency of \n",
    "# elements in a list using a dictionary \n",
    "\n",
    "def CountFrequency(my_list): \n",
    "\n",
    "# Creating an empty dictionary \n",
    "    freq = {} \n",
    "    for item in my_list: \n",
    "        if (item in freq): \n",
    "            freq[item] += 1\n",
    "        else: \n",
    "            freq[item] = 1\n",
    "    freq={k: v for k, v in sorted(freq.items(), key=lambda item: item[1])}\n",
    "    for key, value in freq.items(): \n",
    "        print (f\"{key} : {value}\") \n",
    "\n",
    "# Driver function \n",
    "if __name__ == \"__main__\": \n",
    "    my_list =all_nums \n",
    "    CountFrequency(my_list) \n"
   ]
  },
  {
   "cell_type": "code",
   "execution_count": 35,
   "metadata": {},
   "outputs": [
    {
     "data": {
      "text/plain": [
       "True"
      ]
     },
     "execution_count": 35,
     "metadata": {},
     "output_type": "execute_result"
    }
   ],
   "source": [
    "['1', '5', '9', '15', '23'] == ['1', '5', '9', '15', '23']"
   ]
  },
  {
   "cell_type": "code",
   "execution_count": 36,
   "metadata": {},
   "outputs": [
    {
     "data": {
      "text/plain": [
       "False"
      ]
     },
     "execution_count": 36,
     "metadata": {},
     "output_type": "execute_result"
    }
   ],
   "source": [
    "['5', '1', '9', '15', '23'] == ['1', '5', '9', '15', '23']"
   ]
  },
  {
   "cell_type": "code",
   "execution_count": 37,
   "metadata": {},
   "outputs": [
    {
     "data": {
      "text/plain": [
       "True"
      ]
     },
     "execution_count": 37,
     "metadata": {},
     "output_type": "execute_result"
    }
   ],
   "source": [
    "set(['5', '1', '9', '15', '23']) == set(['1', '5', '9', '15', '23'])"
   ]
  },
  {
   "cell_type": "code",
   "execution_count": 38,
   "metadata": {},
   "outputs": [
    {
     "data": {
      "text/plain": [
       "False"
      ]
     },
     "execution_count": 38,
     "metadata": {},
     "output_type": "execute_result"
    }
   ],
   "source": [
    "5 in ['5', '1', '9', '15', '23']"
   ]
  },
  {
   "cell_type": "code",
   "execution_count": 39,
   "metadata": {},
   "outputs": [
    {
     "data": {
      "text/plain": [
       "True"
      ]
     },
     "execution_count": 39,
     "metadata": {},
     "output_type": "execute_result"
    }
   ],
   "source": [
    "'5' in ['5', '1', '9', '15', '23']"
   ]
  },
  {
   "cell_type": "code",
   "execution_count": 40,
   "metadata": {},
   "outputs": [
    {
     "data": {
      "text/plain": [
       "False"
      ]
     },
     "execution_count": 40,
     "metadata": {},
     "output_type": "execute_result"
    }
   ],
   "source": [
    "['5', '1', '9', '15', '23'] in list(list(daily_lotto_2020['Results']))"
   ]
  },
  {
   "cell_type": "code",
   "execution_count": 41,
   "metadata": {},
   "outputs": [
    {
     "data": {
      "text/plain": [
       "True"
      ]
     },
     "execution_count": 41,
     "metadata": {},
     "output_type": "execute_result"
    }
   ],
   "source": [
    "['1', '5', '9', '15', '23'] in list(list(daily_lotto_2020['Results']))"
   ]
  },
  {
   "cell_type": "code",
   "execution_count": 42,
   "metadata": {},
   "outputs": [],
   "source": [
    "#json.dumps(list(daily_lotto_2020['Results']))"
   ]
  },
  {
   "cell_type": "code",
   "execution_count": 43,
   "metadata": {},
   "outputs": [
    {
     "data": {
      "text/plain": [
       "[['1', '10', '12', '19', '29'],\n",
       " ['1', '11', '12', '27', '35'],\n",
       " ['1', '11', '14', '20', '23'],\n",
       " ['1', '11', '16', '18', '35'],\n",
       " ['1', '11', '16', '24', '31'],\n",
       " ['1', '12', '13', '34', '36'],\n",
       " ['1', '12', '18', '19', '24'],\n",
       " ['1', '12', '21', '33', '34'],\n",
       " ['1', '13', '14', '35', '36'],\n",
       " ['1', '13', '20', '26', '28'],\n",
       " ['1', '13', '22', '23', '27'],\n",
       " ['1', '14', '19', '25', '36'],\n",
       " ['1', '15', '23', '32', '34'],\n",
       " ['1', '15', '30', '33', '34'],\n",
       " ['1', '16', '17', '29', '36'],\n",
       " ['1', '16', '19', '20', '29'],\n",
       " ['1', '16', '21', '26', '32'],\n",
       " ['1', '16', '21', '33', '36'],\n",
       " ['1', '17', '18', '28', '36'],\n",
       " ['1', '18', '22', '26', '36'],\n",
       " ['1', '18', '29', '30', '36'],\n",
       " ['1', '18', '29', '33', '36'],\n",
       " ['1', '19', '22', '34', '36'],\n",
       " ['1', '2', '19', '26', '33'],\n",
       " ['1', '2', '22', '31', '35'],\n",
       " ['1', '2', '4', '18', '30'],\n",
       " ['1', '2', '4', '18', '32'],\n",
       " ['1', '2', '7', '32', '36'],\n",
       " ['1', '2', '7', '9', '29'],\n",
       " ['1', '2', '9', '19', '31'],\n",
       " ['1', '2', '9', '26', '35'],\n",
       " ['1', '20', '22', '24', '30'],\n",
       " ['1', '21', '23', '27', '32'],\n",
       " ['1', '21', '24', '28', '29'],\n",
       " ['1', '21', '30', '31', '36'],\n",
       " ['1', '23', '28', '33', '34'],\n",
       " ['1', '23', '31', '35', '36'],\n",
       " ['1', '25', '30', '31', '35'],\n",
       " ['1', '3', '10', '16', '36'],\n",
       " ['1', '3', '10', '17', '21'],\n",
       " ['1', '3', '10', '32', '35'],\n",
       " ['1', '3', '11', '15', '33'],\n",
       " ['1', '3', '16', '30', '34'],\n",
       " ['1', '3', '17', '21', '22'],\n",
       " ['1', '3', '4', '16', '18'],\n",
       " ['1', '3', '5', '14', '22'],\n",
       " ['1', '3', '5', '18', '35'],\n",
       " ['1', '3', '9', '26', '32'],\n",
       " ['1', '4', '10', '18', '30'],\n",
       " ['1', '4', '14', '20', '25'],\n",
       " ['1', '5', '10', '25', '29'],\n",
       " ['1', '5', '10', '25', '33'],\n",
       " ['1', '5', '12', '14', '34'],\n",
       " ['1', '5', '15', '35', '36'],\n",
       " ['1', '5', '16', '22', '26'],\n",
       " ['1', '5', '6', '10', '21'],\n",
       " ['1', '5', '6', '27', '31'],\n",
       " ['1', '5', '9', '15', '23'],\n",
       " ['1', '5', '9', '15', '27'],\n",
       " ['1', '5', '9', '26', '32'],\n",
       " ['1', '5', '9', '27', '34'],\n",
       " ['1', '6', '13', '29', '31'],\n",
       " ['1', '6', '16', '24', '34'],\n",
       " ['1', '6', '17', '33', '36'],\n",
       " ['1', '6', '29', '30', '31'],\n",
       " ['1', '6', '7', '15', '31'],\n",
       " ['1', '7', '11', '18', '34'],\n",
       " ['1', '7', '12', '13', '25'],\n",
       " ['1', '7', '14', '17', '22'],\n",
       " ['1', '7', '14', '19', '29'],\n",
       " ['1', '7', '24', '29', '34'],\n",
       " ['1', '7', '9', '24', '26'],\n",
       " ['1', '8', '9', '12', '26'],\n",
       " ['1', '8', '9', '19', '36'],\n",
       " ['1', '9', '10', '16', '17'],\n",
       " ['1', '9', '12', '22', '29'],\n",
       " ['1', '9', '13', '15', '23'],\n",
       " ['10', '11', '12', '19', '23'],\n",
       " ['10', '11', '14', '15', '29'],\n",
       " ['10', '11', '14', '22', '24'],\n",
       " ['10', '12', '14', '20', '22'],\n",
       " ['10', '12', '15', '16', '23'],\n",
       " ['10', '12', '15', '19', '27'],\n",
       " ['10', '12', '15', '23', '25'],\n",
       " ['10', '12', '15', '25', '29'],\n",
       " ['10', '12', '25', '31', '32'],\n",
       " ['10', '13', '15', '24', '28'],\n",
       " ['10', '14', '16', '31', '36'],\n",
       " ['10', '15', '20', '23', '36'],\n",
       " ['10', '15', '20', '26', '29'],\n",
       " ['10', '16', '19', '29', '31'],\n",
       " ['10', '16', '21', '24', '34'],\n",
       " ['10', '17', '25', '27', '29'],\n",
       " ['10', '20', '23', '32', '34'],\n",
       " ['10', '21', '22', '28', '30'],\n",
       " ['10', '21', '32', '34', '36'],\n",
       " ['10', '24', '29', '31', '36'],\n",
       " ['10', '27', '31', '34', '35'],\n",
       " ['10', '29', '30', '31', '35'],\n",
       " ['11', '12', '18', '27', '29'],\n",
       " ['11', '12', '21', '23', '27'],\n",
       " ['11', '13', '15', '19', '31'],\n",
       " ['11', '15', '17', '25', '26'],\n",
       " ['11', '16', '17', '29', '32'],\n",
       " ['11', '17', '19', '20', '30'],\n",
       " ['11', '17', '27', '28', '34'],\n",
       " ['11', '19', '20', '21', '23'],\n",
       " ['11', '20', '27', '31', '36'],\n",
       " ['11', '21', '29', '32', '33'],\n",
       " ['11', '22', '25', '28', '31'],\n",
       " ['11', '22', '27', '29', '31'],\n",
       " ['11', '23', '26', '27', '33'],\n",
       " ['12', '13', '15', '26', '28'],\n",
       " ['12', '13', '22', '31', '34'],\n",
       " ['12', '13', '28', '30', '31'],\n",
       " ['12', '14', '19', '22', '30'],\n",
       " ['12', '14', '19', '26', '34'],\n",
       " ['12', '14', '22', '23', '25'],\n",
       " ['12', '15', '16', '17', '18'],\n",
       " ['12', '15', '17', '21', '36'],\n",
       " ['12', '17', '31', '35', '36'],\n",
       " ['12', '18', '22', '24', '26'],\n",
       " ['12', '20', '27', '34', '36'],\n",
       " ['12', '21', '25', '33', '36'],\n",
       " ['12', '21', '28', '29', '35'],\n",
       " ['12', '23', '25', '27', '34'],\n",
       " ['12', '28', '33', '35', '36'],\n",
       " ['12', '28', '34', '35', '36'],\n",
       " ['13', '14', '15', '24', '31'],\n",
       " ['13', '14', '27', '29', '34'],\n",
       " ['13', '15', '21', '28', '33'],\n",
       " ['13', '15', '24', '27', '31'],\n",
       " ['13', '15', '27', '35', '36'],\n",
       " ['13', '18', '21', '28', '29'],\n",
       " ['13', '19', '27', '35', '36'],\n",
       " ['13', '20', '29', '32', '35'],\n",
       " ['13', '21', '24', '25', '26'],\n",
       " ['13', '22', '29', '33', '36'],\n",
       " ['13', '22', '32', '34', '35'],\n",
       " ['13', '23', '30', '32', '33'],\n",
       " ['13', '24', '29', '34', '35'],\n",
       " ['14', '15', '16', '17', '27'],\n",
       " ['14', '15', '18', '25', '30'],\n",
       " ['14', '15', '19', '21', '32'],\n",
       " ['14', '15', '20', '24', '32'],\n",
       " ['14', '16', '18', '23', '29'],\n",
       " ['14', '16', '25', '29', '32'],\n",
       " ['14', '17', '21', '22', '29'],\n",
       " ['14', '17', '23', '28', '29'],\n",
       " ['14', '17', '23', '31', '32'],\n",
       " ['14', '17', '24', '26', '33'],\n",
       " ['14', '19', '23', '26', '35'],\n",
       " ['14', '20', '22', '26', '31'],\n",
       " ['15', '17', '30', '35', '36'],\n",
       " ['15', '18', '19', '21', '31'],\n",
       " ['15', '18', '23', '24', '36'],\n",
       " ['15', '22', '24', '27', '31'],\n",
       " ['15', '25', '27', '34', '36'],\n",
       " ['15', '26', '32', '33', '36'],\n",
       " ['16', '17', '24', '25', '30'],\n",
       " ['16', '20', '29', '32', '33'],\n",
       " ['16', '20', '29', '33', '35'],\n",
       " ['16', '22', '26', '29', '34'],\n",
       " ['16', '22', '29', '33', '35'],\n",
       " ['16', '23', '26', '27', '33'],\n",
       " ['16', '24', '26', '28', '33'],\n",
       " ['16', '25', '27', '29', '30'],\n",
       " ['17', '22', '23', '28', '33'],\n",
       " ['17', '24', '26', '33', '36'],\n",
       " ['17', '27', '28', '29', '36'],\n",
       " ['18', '20', '30', '32', '34'],\n",
       " ['18', '21', '24', '30', '32'],\n",
       " ['18', '21', '28', '29', '30'],\n",
       " ['18', '23', '28', '34', '36'],\n",
       " ['18', '25', '26', '27', '31'],\n",
       " ['18', '26', '30', '32', '34'],\n",
       " ['19', '20', '21', '33', '34'],\n",
       " ['19', '20', '28', '32', '33'],\n",
       " ['19', '21', '22', '28', '33'],\n",
       " ['19', '23', '26', '28', '33'],\n",
       " ['19', '24', '25', '27', '31'],\n",
       " ['19', '27', '28', '29', '34'],\n",
       " ['2', '10', '13', '26', '33'],\n",
       " ['2', '10', '14', '25', '27'],\n",
       " ['2', '10', '15', '16', '20'],\n",
       " ['2', '10', '17', '33', '35'],\n",
       " ['2', '11', '12', '16', '24'],\n",
       " ['2', '11', '12', '22', '28'],\n",
       " ['2', '11', '13', '17', '20'],\n",
       " ['2', '11', '25', '33', '35'],\n",
       " ['2', '12', '13', '22', '35'],\n",
       " ['2', '12', '18', '32', '36'],\n",
       " ['2', '12', '20', '24', '31'],\n",
       " ['2', '12', '24', '25', '31'],\n",
       " ['2', '12', '26', '28', '33'],\n",
       " ['2', '12', '26', '28', '34'],\n",
       " ['2', '13', '15', '18', '36'],\n",
       " ['2', '14', '16', '32', '33'],\n",
       " ['2', '15', '27', '31', '33'],\n",
       " ['2', '15', '28', '31', '32'],\n",
       " ['2', '16', '19', '29', '33'],\n",
       " ['2', '16', '20', '22', '28'],\n",
       " ['2', '16', '21', '23', '28'],\n",
       " ['2', '16', '25', '26', '32'],\n",
       " ['2', '17', '26', '32', '33'],\n",
       " ['2', '20', '21', '29', '30'],\n",
       " ['2', '20', '24', '27', '33'],\n",
       " ['2', '21', '29', '30', '36'],\n",
       " ['2', '25', '29', '32', '33'],\n",
       " ['2', '3', '10', '12', '35'],\n",
       " ['2', '3', '16', '29', '36'],\n",
       " ['2', '3', '24', '26', '35'],\n",
       " ['2', '3', '9', '12', '27'],\n",
       " ['2', '3', '9', '31', '32'],\n",
       " ['2', '4', '14', '25', '29'],\n",
       " ['2', '4', '25', '35', '36'],\n",
       " ['2', '4', '5', '26', '29'],\n",
       " ['2', '4', '6', '29', '33'],\n",
       " ['2', '4', '6', '9', '12'],\n",
       " ['2', '4', '8', '15', '22'],\n",
       " ['2', '5', '12', '27', '29'],\n",
       " ['2', '5', '13', '16', '21'],\n",
       " ['2', '5', '16', '18', '19'],\n",
       " ['2', '5', '17', '19', '21'],\n",
       " ['2', '5', '20', '23', '30'],\n",
       " ['2', '5', '6', '7', '9'],\n",
       " ['2', '5', '7', '8', '25'],\n",
       " ['2', '5', '8', '16', '26'],\n",
       " ['2', '5', '9', '12', '22'],\n",
       " ['2', '5', '9', '13', '34'],\n",
       " ['2', '6', '15', '16', '29'],\n",
       " ['2', '6', '17', '26', '34'],\n",
       " ['2', '6', '29', '32', '35'],\n",
       " ['2', '6', '9', '13', '25'],\n",
       " ['2', '7', '10', '14', '23'],\n",
       " ['2', '7', '10', '15', '22'],\n",
       " ['2', '7', '12', '30', '33'],\n",
       " ['2', '7', '15', '26', '35'],\n",
       " ['2', '7', '17', '24', '27'],\n",
       " ['2', '7', '20', '21', '35'],\n",
       " ['2', '7', '9', '14', '30'],\n",
       " ['2', '8', '10', '12', '27'],\n",
       " ['2', '8', '10', '15', '23'],\n",
       " ['2', '8', '10', '24', '34'],\n",
       " ['2', '8', '11', '17', '18'],\n",
       " ['2', '8', '11', '35', '36'],\n",
       " ['2', '8', '18', '23', '32'],\n",
       " ['2', '9', '10', '13', '25'],\n",
       " ['2', '9', '11', '18', '20'],\n",
       " ['2', '9', '11', '20', '31'],\n",
       " ['2', '9', '13', '30', '32'],\n",
       " ['2', '9', '17', '20', '32'],\n",
       " ['2', '9', '17', '22', '25'],\n",
       " ['2', '9', '22', '33', '36'],\n",
       " ['2', '9', '23', '32', '36'],\n",
       " ['20', '25', '28', '34', '35'],\n",
       " ['21', '22', '24', '25', '36'],\n",
       " ['21', '23', '25', '27', '34'],\n",
       " ['22', '23', '28', '33', '36'],\n",
       " ['22', '24', '31', '32', '36'],\n",
       " ['22', '26', '29', '33', '35'],\n",
       " ['23', '24', '27', '31', '33'],\n",
       " ['23', '29', '30', '31', '32'],\n",
       " ['24', '26', '30', '31', '32'],\n",
       " ['3', '10', '12', '19', '23'],\n",
       " ['3', '10', '12', '25', '32'],\n",
       " ['3', '10', '17', '21', '29'],\n",
       " ['3', '10', '18', '20', '28'],\n",
       " ['3', '10', '23', '25', '36'],\n",
       " ['3', '10', '25', '35', '36'],\n",
       " ['3', '11', '12', '22', '25'],\n",
       " ['3', '11', '14', '24', '27'],\n",
       " ['3', '11', '20', '22', '34'],\n",
       " ['3', '12', '13', '20', '35'],\n",
       " ['3', '12', '14', '16', '29'],\n",
       " ['3', '13', '14', '17', '24'],\n",
       " ['3', '13', '16', '22', '27'],\n",
       " ['3', '13', '18', '19', '28'],\n",
       " ['3', '13', '22', '28', '32'],\n",
       " ['3', '15', '16', '21', '30'],\n",
       " ['3', '15', '21', '29', '32'],\n",
       " ['3', '15', '23', '26', '36'],\n",
       " ['3', '16', '18', '24', '25'],\n",
       " ['3', '17', '23', '24', '26'],\n",
       " ['3', '17', '24', '31', '34'],\n",
       " ['3', '18', '19', '27', '34'],\n",
       " ['3', '18', '19', '31', '35'],\n",
       " ['3', '4', '14', '26', '30'],\n",
       " ['3', '4', '8', '18', '25'],\n",
       " ['3', '5', '12', '27', '33'],\n",
       " ['3', '5', '13', '15', '25'],\n",
       " ['3', '5', '15', '19', '24'],\n",
       " ['3', '5', '19', '25', '26'],\n",
       " ['3', '5', '19', '30', '32'],\n",
       " ['3', '5', '20', '25', '28'],\n",
       " ['3', '5', '21', '32', '35'],\n",
       " ['3', '5', '25', '26', '35'],\n",
       " ['3', '5', '6', '11', '36'],\n",
       " ['3', '5', '6', '8', '23'],\n",
       " ['3', '5', '7', '10', '15'],\n",
       " ['3', '6', '10', '22', '23'],\n",
       " ['3', '6', '12', '17', '29'],\n",
       " ['3', '6', '12', '32', '36'],\n",
       " ['3', '6', '21', '26', '29'],\n",
       " ['3', '6', '24', '30', '36'],\n",
       " ['3', '6', '7', '21', '29'],\n",
       " ['3', '6', '9', '10', '11'],\n",
       " ['3', '6', '9', '24', '33'],\n",
       " ['3', '7', '10', '13', '17'],\n",
       " ['3', '7', '10', '22', '35'],\n",
       " ['3', '7', '20', '21', '35'],\n",
       " ['3', '8', '11', '12', '26'],\n",
       " ['3', '8', '12', '23', '30'],\n",
       " ['3', '8', '19', '22', '26'],\n",
       " ['3', '8', '21', '30', '35'],\n",
       " ['3', '8', '22', '23', '28'],\n",
       " ['3', '9', '12', '13', '31'],\n",
       " ['3', '9', '18', '19', '22'],\n",
       " ['30', '31', '32', '34', '36'],\n",
       " ['4', '10', '14', '25', '32'],\n",
       " ['4', '10', '16', '18', '33'],\n",
       " ['4', '10', '16', '21', '35'],\n",
       " ['4', '10', '17', '21', '27'],\n",
       " ['4', '10', '23', '27', '36'],\n",
       " ['4', '11', '12', '21', '23'],\n",
       " ['4', '12', '13', '23', '28'],\n",
       " ['4', '12', '14', '18', '29'],\n",
       " ['4', '12', '16', '34', '36'],\n",
       " ['4', '12', '17', '28', '34'],\n",
       " ['4', '13', '14', '18', '30'],\n",
       " ['4', '13', '14', '20', '34'],\n",
       " ['4', '13', '16', '27', '35'],\n",
       " ['4', '13', '20', '22', '30'],\n",
       " ['4', '13', '22', '25', '33'],\n",
       " ['4', '14', '15', '27', '31'],\n",
       " ['4', '14', '19', '28', '33'],\n",
       " ['4', '14', '22', '25', '27'],\n",
       " ['4', '14', '22', '25', '27'],\n",
       " ['4', '14', '24', '28', '30'],\n",
       " ['4', '17', '21', '26', '31'],\n",
       " ['4', '17', '21', '29', '30'],\n",
       " ['4', '17', '24', '25', '36'],\n",
       " ['4', '18', '20', '25', '31'],\n",
       " ['4', '19', '20', '30', '35'],\n",
       " ['4', '19', '21', '24', '34'],\n",
       " ['4', '19', '29', '32', '35'],\n",
       " ['4', '20', '28', '29', '36'],\n",
       " ['4', '20', '29', '32', '33'],\n",
       " ['4', '25', '30', '34', '35'],\n",
       " ['4', '5', '10', '12', '25'],\n",
       " ['4', '5', '10', '22', '29'],\n",
       " ['4', '5', '11', '12', '27'],\n",
       " ['4', '5', '11', '13', '27'],\n",
       " ['4', '5', '19', '28', '33'],\n",
       " ['4', '5', '7', '12', '23'],\n",
       " ['4', '6', '13', '14', '29'],\n",
       " ['4', '6', '13', '25', '26'],\n",
       " ['4', '6', '14', '26', '29'],\n",
       " ['4', '6', '15', '33', '35'],\n",
       " ['4', '6', '18', '21', '33'],\n",
       " ['4', '6', '20', '22', '25'],\n",
       " ['4', '6', '20', '24', '29'],\n",
       " ['4', '6', '25', '31', '36'],\n",
       " ['4', '6', '7', '14', '25'],\n",
       " ['4', '7', '19', '23', '30'],\n",
       " ['4', '8', '13', '20', '31'],\n",
       " ['4', '8', '14', '29', '35'],\n",
       " ['4', '8', '17', '18', '30'],\n",
       " ['4', '8', '18', '19', '34'],\n",
       " ['4', '8', '19', '24', '30'],\n",
       " ['4', '8', '19', '34', '36'],\n",
       " ['4', '8', '22', '25', '33'],\n",
       " ['4', '8', '29', '31', '35'],\n",
       " ['4', '8', '9', '18', '30'],\n",
       " ['4', '9', '18', '22', '32'],\n",
       " ['5', '10', '15', '24', '29'],\n",
       " ['5', '11', '13', '19', '35'],\n",
       " ['5', '11', '14', '21', '29'],\n",
       " ['5', '11', '15', '31', '36'],\n",
       " ['5', '11', '19', '21', '36'],\n",
       " ['5', '11', '21', '32', '35'],\n",
       " ['5', '12', '14', '17', '25'],\n",
       " ['5', '12', '14', '20', '23'],\n",
       " ['5', '12', '16', '20', '25'],\n",
       " ['5', '14', '16', '27', '29'],\n",
       " ['5', '14', '18', '28', '29'],\n",
       " ['5', '14', '18', '33', '34'],\n",
       " ['5', '14', '20', '22', '25'],\n",
       " ['5', '14', '20', '26', '34'],\n",
       " ['5', '15', '16', '25', '36'],\n",
       " ['5', '15', '18', '20', '31'],\n",
       " ['5', '18', '20', '27', '34'],\n",
       " ['5', '18', '21', '23', '34'],\n",
       " ['5', '18', '28', '31', '36'],\n",
       " ['5', '18', '30', '33', '34'],\n",
       " ['5', '19', '21', '22', '32'],\n",
       " ['5', '20', '23', '24', '36'],\n",
       " ['5', '21', '22', '26', '32'],\n",
       " ['5', '21', '25', '30', '32'],\n",
       " ['5', '24', '33', '35', '36'],\n",
       " ['5', '25', '29', '30', '33'],\n",
       " ['5', '26', '29', '32', '34'],\n",
       " ['5', '6', '10', '16', '22'],\n",
       " ['5', '6', '11', '23', '30'],\n",
       " ['5', '6', '12', '28', '36'],\n",
       " ['5', '6', '22', '28', '36'],\n",
       " ['5', '6', '7', '22', '34'],\n",
       " ['5', '6', '7', '9', '28'],\n",
       " ['5', '7', '16', '26', '31'],\n",
       " ['5', '7', '19', '22', '25'],\n",
       " ['5', '7', '19', '31', '33'],\n",
       " ['5', '7', '8', '25', '27'],\n",
       " ['5', '8', '10', '13', '19'],\n",
       " ['5', '8', '11', '20', '32'],\n",
       " ['5', '8', '12', '17', '30'],\n",
       " ['5', '8', '14', '16', '24'],\n",
       " ['5', '8', '16', '33', '34'],\n",
       " ['5', '8', '24', '27', '35'],\n",
       " ['5', '9', '11', '15', '23'],\n",
       " ['5', '9', '13', '25', '35'],\n",
       " ['5', '9', '14', '16', '17'],\n",
       " ['5', '9', '15', '21', '36'],\n",
       " ['5', '9', '19', '26', '31'],\n",
       " ['5', '9', '25', '29', '33'],\n",
       " ['5', '9', '29', '30', '36'],\n",
       " ['6', '10', '11', '28', '31'],\n",
       " ['6', '10', '21', '31', '34'],\n",
       " ['6', '10', '25', '26', '27'],\n",
       " ['6', '11', '14', '15', '25'],\n",
       " ['6', '11', '19', '22', '31'],\n",
       " ['6', '11', '20', '29', '36'],\n",
       " ['6', '12', '13', '19', '31'],\n",
       " ['6', '12', '19', '27', '34'],\n",
       " ['6', '12', '20', '33', '34'],\n",
       " ['6', '12', '22', '30', '34'],\n",
       " ['6', '12', '23', '25', '36'],\n",
       " ['6', '13', '21', '26', '32'],\n",
       " ['6', '13', '27', '34', '36'],\n",
       " ['6', '14', '15', '17', '33'],\n",
       " ['6', '14', '16', '27', '30'],\n",
       " ['6', '15', '17', '23', '30'],\n",
       " ['6', '15', '18', '27', '31'],\n",
       " ['6', '15', '19', '22', '32'],\n",
       " ['6', '15', '23', '24', '28'],\n",
       " ['6', '16', '17', '19', '34'],\n",
       " ['6', '16', '18', '23', '33'],\n",
       " ['6', '16', '24', '30', '31'],\n",
       " ['6', '17', '20', '33', '34'],\n",
       " ['6', '17', '25', '30', '31'],\n",
       " ['6', '18', '24', '28', '30'],\n",
       " ['6', '20', '23', '34', '35'],\n",
       " ['6', '21', '24', '28', '36'],\n",
       " ['6', '7', '11', '28', '36'],\n",
       " ['6', '7', '13', '17', '32'],\n",
       " ['6', '7', '13', '21', '23'],\n",
       " ['6', '7', '15', '21', '22'],\n",
       " ['6', '7', '21', '25', '36'],\n",
       " ['6', '8', '10', '30', '33'],\n",
       " ['6', '8', '11', '12', '22'],\n",
       " ['6', '8', '13', '22', '29'],\n",
       " ['6', '8', '19', '21', '24'],\n",
       " ['6', '8', '21', '33', '34'],\n",
       " ['6', '8', '9', '11', '20'],\n",
       " ['6', '8', '9', '22', '36'],\n",
       " ['6', '9', '11', '26', '35'],\n",
       " ['6', '9', '15', '22', '30'],\n",
       " ['6', '9', '15', '24', '28'],\n",
       " ['6', '9', '20', '28', '36'],\n",
       " ['6', '9', '21', '24', '36'],\n",
       " ['7', '10', '14', '17', '30'],\n",
       " ['7', '10', '19', '24', '32'],\n",
       " ['7', '10', '25', '26', '33'],\n",
       " ['7', '11', '12', '23', '24'],\n",
       " ['7', '11', '17', '33', '34'],\n",
       " ['7', '11', '19', '24', '35'],\n",
       " ['7', '11', '19', '28', '32'],\n",
       " ['7', '12', '19', '32', '36'],\n",
       " ['7', '13', '14', '17', '30'],\n",
       " ['7', '13', '17', '23', '25'],\n",
       " ['7', '14', '15', '23', '24'],\n",
       " ['7', '14', '16', '22', '32'],\n",
       " ['7', '14', '20', '24', '36'],\n",
       " ['7', '14', '26', '27', '35'],\n",
       " ['7', '15', '21', '27', '33'],\n",
       " ['7', '15', '21', '31', '33'],\n",
       " ['7', '16', '18', '19', '30'],\n",
       " ['7', '16', '20', '28', '35'],\n",
       " ['7', '16', '21', '26', '36'],\n",
       " ['7', '18', '21', '28', '31'],\n",
       " ['7', '18', '23', '29', '32'],\n",
       " ['7', '20', '23', '29', '35'],\n",
       " ['7', '20', '30', '31', '34'],\n",
       " ['7', '22', '25', '28', '35'],\n",
       " ['7', '23', '26', '31', '34'],\n",
       " ['7', '24', '25', '27', '34'],\n",
       " ['7', '8', '23', '30', '32'],\n",
       " ['7', '8', '23', '34', '36'],\n",
       " ['7', '9', '10', '28', '32'],\n",
       " ['7', '9', '11', '19', '26'],\n",
       " ['7', '9', '14', '15', '36'],\n",
       " ['7', '9', '15', '16', '26'],\n",
       " ['7', '9', '23', '26', '27'],\n",
       " ['8', '10', '20', '22', '27'],\n",
       " ['8', '11', '14', '15', '35'],\n",
       " ['8', '11', '16', '22', '25'],\n",
       " ['8', '11', '16', '24', '27'],\n",
       " ['8', '11', '16', '26', '30'],\n",
       " ['8', '11', '18', '25', '26'],\n",
       " ['8', '12', '15', '21', '26'],\n",
       " ['8', '12', '18', '19', '24'],\n",
       " ['8', '13', '14', '28', '35'],\n",
       " ['8', '13', '15', '21', '25'],\n",
       " ['8', '13', '18', '19', '34'],\n",
       " ['8', '14', '15', '16', '33'],\n",
       " ['8', '14', '15', '22', '36'],\n",
       " ['8', '14', '16', '22', '27'],\n",
       " ['8', '14', '16', '33', '34'],\n",
       " ['8', '14', '20', '29', '33'],\n",
       " ['8', '14', '25', '26', '28'],\n",
       " ['8', '16', '20', '22', '30'],\n",
       " ['8', '16', '24', '28', '32'],\n",
       " ['8', '22', '26', '33', '35'],\n",
       " ['8', '23', '27', '32', '34'],\n",
       " ['8', '9', '10', '21', '36'],\n",
       " ['8', '9', '17', '20', '28'],\n",
       " ['8', '9', '22', '28', '35'],\n",
       " ['8', '9', '28', '31', '33'],\n",
       " ['9', '10', '12', '25', '27'],\n",
       " ['9', '10', '24', '31', '34'],\n",
       " ['9', '11', '13', '14', '19'],\n",
       " ['9', '11', '18', '24', '29'],\n",
       " ['9', '12', '17', '33', '35'],\n",
       " ['9', '12', '20', '25', '26'],\n",
       " ['9', '12', '24', '25', '34'],\n",
       " ['9', '12', '28', '34', '36'],\n",
       " ['9', '12', '29', '31', '34'],\n",
       " ['9', '13', '14', '15', '25'],\n",
       " ['9', '13', '15', '20', '34'],\n",
       " ['9', '13', '22', '31', '34'],\n",
       " ['9', '13', '22', '31', '35'],\n",
       " ['9', '13', '26', '31', '34'],\n",
       " ['9', '14', '18', '26', '30'],\n",
       " ['9', '14', '20', '29', '35'],\n",
       " ['9', '14', '24', '28', '36'],\n",
       " ['9', '14', '29', '31', '33'],\n",
       " ['9', '15', '16', '27', '30'],\n",
       " ['9', '15', '18', '25', '27'],\n",
       " ['9', '15', '28', '32', '34'],\n",
       " ['9', '16', '20', '21', '30'],\n",
       " ['9', '17', '24', '30', '35'],\n",
       " ['9', '25', '27', '28', '34'],\n",
       " ['9', '25', '32', '35', '36'],\n",
       " ['9', '25', '34', '35', '36']]"
      ]
     },
     "execution_count": 43,
     "metadata": {},
     "output_type": "execute_result"
    }
   ],
   "source": [
    "sorted(list(daily_lotto_2020['Results']))"
   ]
  },
  {
   "cell_type": "code",
   "execution_count": 44,
   "metadata": {},
   "outputs": [
    {
     "data": {
      "text/plain": [
       "{'20': 1,\n",
       " '24': 1,\n",
       " '30': 1,\n",
       " '21': 2,\n",
       " '23': 2,\n",
       " '17': 3,\n",
       " '22': 3,\n",
       " '15': 6,\n",
       " '18': 6,\n",
       " '19': 6,\n",
       " '16': 8,\n",
       " '14': 12,\n",
       " '11': 13,\n",
       " '13': 13,\n",
       " '12': 16,\n",
       " '10': 22,\n",
       " '8': 25,\n",
       " '9': 26,\n",
       " '7': 33,\n",
       " '6': 44,\n",
       " '5': 50,\n",
       " '3': 54,\n",
       " '4': 56,\n",
       " '2': 73,\n",
       " '1': 77}"
      ]
     },
     "execution_count": 44,
     "metadata": {},
     "output_type": "execute_result"
    }
   ],
   "source": [
    "# Creating an empty dictionary \n",
    "freq = {} \n",
    "for item in sorted(list(daily_lotto_2020['Results'])): \n",
    "    if (item[0] in freq): \n",
    "        freq[item[0]] += 1\n",
    "    else: \n",
    "        freq[item[0]] = 1\n",
    "freq={k: v for k, v in sorted(freq.items(), key=lambda item: item[1])}\n",
    "freq"
   ]
  },
  {
   "cell_type": "code",
   "execution_count": 45,
   "metadata": {},
   "outputs": [
    {
     "data": {
      "image/png": "[encoded data removed]",
      "text/plain": [
       "<Figure size 432x288 with 1 Axes>"
      ]
     },
     "metadata": {
      "needs_background": "light"
     },
     "output_type": "display_data"
    }
   ],
   "source": [
    "import matplotlib.pyplot as plt\n",
    "\n",
    "\n",
    "plt.bar(*zip(*freq.items()))\n",
    "plt.show()"
   ]
  },
  {
   "cell_type": "code",
   "execution_count": 46,
   "metadata": {},
   "outputs": [],
   "source": [
    " freq = dict(sorted({int(k):int(v) for k,v in freq.items()}.items()))"
   ]
  },
  {
   "cell_type": "code",
   "execution_count": null,
   "metadata": {},
   "outputs": [],
   "source": []
  },
  {
   "cell_type": "code",
   "execution_count": 47,
   "metadata": {},
   "outputs": [
    {
     "data": {
      "image/png": "[encoded data removed]",
      "text/plain": [
       "<Figure size 432x288 with 1 Axes>"
      ]
     },
     "metadata": {
      "needs_background": "light"
     },
     "output_type": "display_data"
    }
   ],
   "source": [
    "\n",
    "plt.bar(*zip(*freq.items()))\n",
    "plt.show()"
   ]
  },
  {
   "cell_type": "code",
   "execution_count": 48,
   "metadata": {},
   "outputs": [
    {
     "name": "stdout",
     "output_type": "stream",
     "text": [
      "['30', '31', '32', '34', '36']\n"
     ]
    }
   ],
   "source": [
    "for i in sorted(list(daily_lotto_2020['Results'])):\n",
    "    if i[0]=='30':\n",
    "        print(i)"
   ]
  },
  {
   "cell_type": "code",
   "execution_count": 49,
   "metadata": {},
   "outputs": [
    {
     "name": "stdout",
     "output_type": "stream",
     "text": [
      "['20', '25', '28', '34', '35']\n",
      "['21', '22', '24', '25', '36']\n",
      "['21', '23', '25', '27', '34']\n",
      "['22', '23', '28', '33', '36']\n",
      "['22', '24', '31', '32', '36']\n",
      "['22', '26', '29', '33', '35']\n",
      "['23', '24', '27', '31', '33']\n",
      "['23', '29', '30', '31', '32']\n",
      "['24', '26', '30', '31', '32']\n",
      "['30', '31', '32', '34', '36']\n"
     ]
    }
   ],
   "source": [
    "for i in sorted(list(daily_lotto_2020['Results'])):\n",
    "    if int(i[0])> 19:\n",
    "        print(i)"
   ]
  },
  {
   "cell_type": "code",
   "execution_count": 50,
   "metadata": {},
   "outputs": [
    {
     "name": "stdout",
     "output_type": "stream",
     "text": [
      "115\n"
     ]
    }
   ],
   "source": [
    "c = 0\n",
    "for i in sorted(list(daily_lotto_2020['Results'])):\n",
    "    if int(i[0])> 9:\n",
    "        #print(i)\n",
    "        c+=1\n",
    "print(c)"
   ]
  },
  {
   "cell_type": "code",
   "execution_count": 63,
   "metadata": {},
   "outputs": [
    {
     "name": "stdout",
     "output_type": "stream",
     "text": [
      "376992\n",
      "Time is: 0:00:00.099026\n"
     ]
    }
   ],
   "source": [
    "# A Python program to print all  \n",
    "# combinations of given length \n",
    "#from datetime import datetime\n",
    "from itertools import combinations \n",
    "import datetime  \n",
    "# Get all combinations of [1, 2, 3] \n",
    "# and length 2 \n",
    "combi = combinations(range(1,37), 5) \n",
    "\n",
    "start_time = datetime.datetime.now()\n",
    "# Print the obtained combinations \n",
    "total_combination = list(combi)\n",
    "print(len(total_combination))\n",
    "\n",
    "\n",
    "end_time = datetime.datetime.now()\n",
    "print(\"Time is:\",end_time-start_time)"
   ]
  },
  {
   "cell_type": "code",
   "execution_count": 70,
   "metadata": {},
   "outputs": [
    {
     "data": {
      "text/plain": [
       "[(1, 2, 3, 4, 5),\n",
       " (1, 2, 3, 4, 6),\n",
       " (1, 2, 3, 4, 7),\n",
       " (1, 2, 3, 4, 8),\n",
       " (1, 2, 3, 4, 9),\n",
       " (1, 2, 3, 4, 10),\n",
       " (1, 2, 3, 4, 11),\n",
       " (1, 2, 3, 4, 12),\n",
       " (1, 2, 3, 4, 13),\n",
       " (1, 2, 3, 4, 14),\n",
       " (1, 2, 3, 4, 15),\n",
       " (1, 2, 3, 4, 16),\n",
       " (1, 2, 3, 4, 17),\n",
       " (1, 2, 3, 4, 18),\n",
       " (1, 2, 3, 4, 19),\n",
       " (1, 2, 3, 4, 20),\n",
       " (1, 2, 3, 4, 21),\n",
       " (1, 2, 3, 4, 22),\n",
       " (1, 2, 3, 4, 23),\n",
       " (1, 2, 3, 4, 24)]"
      ]
     },
     "execution_count": 70,
     "metadata": {},
     "output_type": "execute_result"
    }
   ],
   "source": [
    "#first 20\n",
    "total_combination[:20]"
   ]
  },
  {
   "cell_type": "code",
   "execution_count": 71,
   "metadata": {},
   "outputs": [],
   "source": [
    "#convert tuple to list\n",
    "total_combination = [list(x) for x in total_combination]"
   ]
  },
  {
   "cell_type": "code",
   "execution_count": 72,
   "metadata": {},
   "outputs": [
    {
     "data": {
      "text/plain": [
       "[[1, 2, 3, 4, 5],\n",
       " [1, 2, 3, 4, 6],\n",
       " [1, 2, 3, 4, 7],\n",
       " [1, 2, 3, 4, 8],\n",
       " [1, 2, 3, 4, 9],\n",
       " [1, 2, 3, 4, 10],\n",
       " [1, 2, 3, 4, 11],\n",
       " [1, 2, 3, 4, 12],\n",
       " [1, 2, 3, 4, 13],\n",
       " [1, 2, 3, 4, 14],\n",
       " [1, 2, 3, 4, 15],\n",
       " [1, 2, 3, 4, 16],\n",
       " [1, 2, 3, 4, 17],\n",
       " [1, 2, 3, 4, 18],\n",
       " [1, 2, 3, 4, 19],\n",
       " [1, 2, 3, 4, 20],\n",
       " [1, 2, 3, 4, 21],\n",
       " [1, 2, 3, 4, 22],\n",
       " [1, 2, 3, 4, 23],\n",
       " [1, 2, 3, 4, 24]]"
      ]
     },
     "execution_count": 72,
     "metadata": {},
     "output_type": "execute_result"
    }
   ],
   "source": [
    "total_combination[:20]"
   ]
  },
  {
   "cell_type": "code",
   "execution_count": 66,
   "metadata": {},
   "outputs": [
    {
     "data": {
      "text/plain": [
       "376992"
      ]
     },
     "execution_count": 66,
     "metadata": {},
     "output_type": "execute_result"
    }
   ],
   "source": [
    "#check\n",
    "\n",
    "comb(36,5)"
   ]
  },
  {
   "cell_type": "code",
   "execution_count": 67,
   "metadata": {},
   "outputs": [
    {
     "name": "stdout",
     "output_type": "stream",
     "text": [
      "553\n"
     ]
    }
   ],
   "source": [
    "to_int = []\n",
    "for lists in list(daily_lotto_2020['Results']):\n",
    "    to_int.append(list(map(int, lists)))\n",
    "print(len(to_int))"
   ]
  },
  {
   "cell_type": "code",
   "execution_count": 73,
   "metadata": {},
   "outputs": [
    {
     "data": {
      "text/plain": [
       "[[2, 4, 5, 26, 29],\n",
       " [7, 13, 14, 17, 30],\n",
       " [4, 12, 16, 34, 36],\n",
       " [23, 29, 30, 31, 32],\n",
       " [4, 13, 16, 27, 35],\n",
       " [6, 12, 23, 25, 36],\n",
       " [8, 11, 16, 22, 25],\n",
       " [5, 11, 19, 21, 36],\n",
       " [2, 12, 13, 22, 35],\n",
       " [3, 17, 24, 31, 34],\n",
       " [3, 7, 20, 21, 35],\n",
       " [1, 5, 9, 15, 23],\n",
       " [5, 11, 21, 32, 35],\n",
       " [5, 12, 16, 20, 25],\n",
       " [8, 10, 20, 22, 27],\n",
       " [4, 19, 20, 30, 35],\n",
       " [5, 6, 7, 22, 34],\n",
       " [6, 9, 21, 24, 36],\n",
       " [11, 20, 27, 31, 36],\n",
       " [5, 9, 11, 15, 23]]"
      ]
     },
     "execution_count": 73,
     "metadata": {},
     "output_type": "execute_result"
    }
   ],
   "source": [
    "to_int[:20]"
   ]
  },
  {
   "cell_type": "code",
   "execution_count": 74,
   "metadata": {},
   "outputs": [
    {
     "name": "stdout",
     "output_type": "stream",
     "text": [
      "553\n"
     ]
    }
   ],
   "source": [
    "c=0\n",
    "for i in to_int:\n",
    "    if i in total_combination:\n",
    "        c+=1\n",
    "print(c)"
   ]
  },
  {
   "cell_type": "code",
   "execution_count": 85,
   "metadata": {},
   "outputs": [
    {
     "data": {
      "text/plain": [
       "376458"
      ]
     },
     "execution_count": 85,
     "metadata": {},
     "output_type": "execute_result"
    }
   ],
   "source": [
    "376992 -534"
   ]
  },
  {
   "cell_type": "code",
   "execution_count": 75,
   "metadata": {},
   "outputs": [
    {
     "name": "stdout",
     "output_type": "stream",
     "text": [
      "[1, 5, 9, 15, 23]\n",
      "[5, 9, 11, 15, 23]\n",
      "[5, 7, 19, 31, 33]\n",
      "[7, 13, 17, 23, 25]\n",
      "[5, 9, 13, 25, 35]\n",
      "[1, 3, 11, 15, 33]\n",
      "[5, 11, 13, 19, 35]\n",
      "[1, 5, 9, 15, 27]\n",
      "[7, 15, 21, 31, 33]\n",
      "[11, 13, 15, 19, 31]\n",
      "[3, 5, 13, 15, 25]\n",
      "[1, 9, 13, 15, 23]\n",
      "[5, 9, 25, 29, 33]\n",
      "[7, 15, 21, 27, 33]\n",
      "539\n"
     ]
    }
   ],
   "source": [
    "#checks\n",
    "dict_check={'even':0,'odd':0}\n",
    "for i in range(1,8):\n",
    "    dict_check[i]=0\n",
    "\n",
    "a=0\n",
    "for lists in to_int:\n",
    "    is_even = lambda x: x % 2 == 0\n",
    "    lis2 = list(filter(is_even, lists))\n",
    "    if len(lists)==list(lis2):\n",
    "        dict_check['even'] +=1\n",
    "        print(lists)\n",
    "    elif len(lis2)==0:\n",
    "        dict_check['odd'] +=1\n",
    "        print(lists)\n",
    "    elif list(range(lists[0],lists[-1]+1,1)) == lists:\n",
    "           dict_check[1] +=1\n",
    "    elif list(range(lists[0],lists[-1]+1,2)) == lists:\n",
    "        dict_check[2] +=1 \n",
    "              \n",
    "    elif list(range(lists[0],lists[-1]+1,3)) == lists:\n",
    "        dict_check[3] +=1 \n",
    "    elif list(range(lists[0],lists[-1]+1,4)) == lists:\n",
    "           dict_check[4] +=1\n",
    "    elif list(range(lists[0],lists[-1]+1,5)) == lists:\n",
    "        dict_check[5] +=1 \n",
    "              \n",
    "    elif list(range(lists[0],lists[-1]+1,6)) == lists:\n",
    "        dict_check[6] +=1 \n",
    "    elif list(range(lists[0],lists[-1]+1,7)) == lists:\n",
    "        dict_check[7] +=1 \n",
    "    else:a +=1\n",
    "print(a)"
   ]
  },
  {
   "cell_type": "code",
   "execution_count": 76,
   "metadata": {},
   "outputs": [
    {
     "data": {
      "text/plain": [
       "{'even': 0, 'odd': 14, 1: 0, 2: 0, 3: 0, 4: 0, 5: 0, 6: 0, 7: 0}"
      ]
     },
     "execution_count": 76,
     "metadata": {},
     "output_type": "execute_result"
    }
   ],
   "source": [
    "dict_check"
   ]
  },
  {
   "cell_type": "code",
   "execution_count": 77,
   "metadata": {},
   "outputs": [
    {
     "name": "stdout",
     "output_type": "stream",
     "text": [
      "368314\n"
     ]
    }
   ],
   "source": [
    "#checks\n",
    "dict_check={'even':0,'odd':0}\n",
    "for i in range(1,8):\n",
    "    dict_check[i]=0\n",
    "\n",
    "a=0\n",
    "for lists in total_combination:\n",
    "    is_even = lambda x: x % 2 == 0\n",
    "    lis2 = list(filter(is_even, lists))\n",
    "    if len(lists)==list(lis2):\n",
    "        dict_check['even'] +=1\n",
    "        #print(lists)\n",
    "    elif len(lis2)==0:\n",
    "        dict_check['odd'] +=1\n",
    "        #print(lists)\n",
    "    elif list(range(lists[0],lists[-1]+1,1)) == lists:\n",
    "           dict_check[1] +=1\n",
    "    elif list(range(lists[0],lists[-1]+1,2)) == lists:\n",
    "        dict_check[2] +=1 \n",
    "              \n",
    "    elif list(range(lists[0],lists[-1]+1,3)) == lists:\n",
    "        dict_check[3] +=1 \n",
    "    elif list(range(lists[0],lists[-1]+1,4)) == lists:\n",
    "           dict_check[4] +=1\n",
    "    elif list(range(lists[0],lists[-1]+1,5)) == lists:\n",
    "        dict_check[5] +=1 \n",
    "              \n",
    "    elif list(range(lists[0],lists[-1]+1,6)) == lists:\n",
    "        dict_check[6] +=1 \n",
    "    elif list(range(lists[0],lists[-1]+1,7)) == lists:\n",
    "        dict_check[7] +=1 \n",
    "    else:a +=1\n",
    "print(a)"
   ]
  },
  {
   "cell_type": "code",
   "execution_count": 78,
   "metadata": {},
   "outputs": [
    {
     "data": {
      "text/plain": [
       "{'even': 0, 'odd': 8568, 1: 32, 2: 14, 3: 24, 4: 10, 5: 16, 6: 6, 7: 8}"
      ]
     },
     "execution_count": 78,
     "metadata": {},
     "output_type": "execute_result"
    }
   ],
   "source": [
    "dict_check"
   ]
  },
  {
   "cell_type": "code",
   "execution_count": 79,
   "metadata": {},
   "outputs": [
    {
     "name": "stdout",
     "output_type": "stream",
     "text": [
      "368314\n"
     ]
    }
   ],
   "source": [
    "total_comb_rem = []\n",
    "for lists in total_combination:\n",
    "    is_even = lambda x: x % 2 == 0\n",
    "    lis2 = list(filter(is_even, lists))\n",
    "    if len(lists)==list(lis2):\n",
    "        dict_check['even'] +=1\n",
    "        #print(lists)\n",
    "    elif len(lis2)==0:\n",
    "        dict_check['odd'] +=1\n",
    "        #print(lists)\n",
    "    elif list(range(lists[0],lists[-1]+1,1)) == lists:\n",
    "           dict_check[1] +=1\n",
    "    elif list(range(lists[0],lists[-1]+1,2)) == lists:\n",
    "        dict_check[2] +=1 \n",
    "              \n",
    "    elif list(range(lists[0],lists[-1]+1,3)) == lists:\n",
    "        dict_check[3] +=1 \n",
    "    elif list(range(lists[0],lists[-1]+1,4)) == lists:\n",
    "           dict_check[4] +=1\n",
    "    elif list(range(lists[0],lists[-1]+1,5)) == lists:\n",
    "        dict_check[5] +=1 \n",
    "              \n",
    "    elif list(range(lists[0],lists[-1]+1,6)) == lists:\n",
    "        dict_check[6] +=1 \n",
    "    elif list(range(lists[0],lists[-1]+1,7)) == lists:\n",
    "        dict_check[7] +=1 \n",
    "    else:total_comb_rem.append(lists)\n",
    "print(len(total_comb_rem))"
   ]
  },
  {
   "cell_type": "code",
   "execution_count": null,
   "metadata": {},
   "outputs": [],
   "source": []
  },
  {
   "cell_type": "code",
   "execution_count": 80,
   "metadata": {},
   "outputs": [
    {
     "name": "stdout",
     "output_type": "stream",
     "text": [
      "[2, 5, 6, 7, 9]\n",
      "1\n"
     ]
    }
   ],
   "source": [
    "c=0\n",
    "for lists in to_int:\n",
    "    is_even = lambda x: x < 10\n",
    "    lis2 = list(filter(is_even, lists))\n",
    "    if len(lis2) >= 5:\n",
    "        print(lists)\n",
    "        c+=1\n",
    "print(c)              "
   ]
  },
  {
   "cell_type": "code",
   "execution_count": 81,
   "metadata": {},
   "outputs": [
    {
     "name": "stdout",
     "output_type": "stream",
     "text": [
      "83\n"
     ]
    }
   ],
   "source": [
    "#remove everything less than 9\n",
    "c=0\n",
    "for lists in total_comb_rem:\n",
    "    lis2 = list(filter(lambda x: x < 10, lists))\n",
    "    if len(lis2)==5:\n",
    "        total_comb_rem.remove(lists)\n",
    "        c+=1\n",
    "print(c)"
   ]
  },
  {
   "cell_type": "code",
   "execution_count": 82,
   "metadata": {},
   "outputs": [
    {
     "data": {
      "text/plain": [
       "368231"
      ]
     },
     "execution_count": 82,
     "metadata": {},
     "output_type": "execute_result"
    }
   ],
   "source": [
    "len(total_comb_rem)"
   ]
  },
  {
   "cell_type": "code",
   "execution_count": 83,
   "metadata": {},
   "outputs": [
    {
     "name": "stdout",
     "output_type": "stream",
     "text": [
      "538\n"
     ]
    }
   ],
   "source": [
    "c=0\n",
    "for lists in to_int:\n",
    "    if lists in total_comb_rem:\n",
    "        total_comb_rem.remove(lists)\n",
    "        c+=1\n",
    "print(c)"
   ]
  },
  {
   "cell_type": "code",
   "execution_count": 85,
   "metadata": {},
   "outputs": [
    {
     "data": {
      "text/plain": [
       "367693"
      ]
     },
     "execution_count": 85,
     "metadata": {},
     "output_type": "execute_result"
    }
   ],
   "source": [
    "len(total_comb_rem)\n"
   ]
  },
  {
   "cell_type": "code",
   "execution_count": 86,
   "metadata": {},
   "outputs": [
    {
     "data": {
      "text/plain": [
       "[[1, 2, 3, 4, 7],\n",
       " [1, 2, 3, 4, 9],\n",
       " [1, 2, 3, 4, 10],\n",
       " [1, 2, 3, 4, 11],\n",
       " [1, 2, 3, 4, 12],\n",
       " [1, 2, 3, 4, 13],\n",
       " [1, 2, 3, 4, 14],\n",
       " [1, 2, 3, 4, 15],\n",
       " [1, 2, 3, 4, 16],\n",
       " [1, 2, 3, 4, 17],\n",
       " [1, 2, 3, 4, 18],\n",
       " [1, 2, 3, 4, 19],\n",
       " [1, 2, 3, 4, 20],\n",
       " [1, 2, 3, 4, 21],\n",
       " [1, 2, 3, 4, 22],\n",
       " [1, 2, 3, 4, 23],\n",
       " [1, 2, 3, 4, 24],\n",
       " [1, 2, 3, 4, 25],\n",
       " [1, 2, 3, 4, 26],\n",
       " [1, 2, 3, 4, 27],\n",
       " [1, 2, 3, 4, 28],\n",
       " [1, 2, 3, 4, 29],\n",
       " [1, 2, 3, 4, 30],\n",
       " [1, 2, 3, 4, 31],\n",
       " [1, 2, 3, 4, 32],\n",
       " [1, 2, 3, 4, 33],\n",
       " [1, 2, 3, 4, 34],\n",
       " [1, 2, 3, 4, 35],\n",
       " [1, 2, 3, 4, 36],\n",
       " [1, 2, 3, 5, 7],\n",
       " [1, 2, 3, 5, 9],\n",
       " [1, 2, 3, 5, 10],\n",
       " [1, 2, 3, 5, 11],\n",
       " [1, 2, 3, 5, 12],\n",
       " [1, 2, 3, 5, 13],\n",
       " [1, 2, 3, 5, 14],\n",
       " [1, 2, 3, 5, 15],\n",
       " [1, 2, 3, 5, 16],\n",
       " [1, 2, 3, 5, 17],\n",
       " [1, 2, 3, 5, 18],\n",
       " [1, 2, 3, 5, 19],\n",
       " [1, 2, 3, 5, 20],\n",
       " [1, 2, 3, 5, 21],\n",
       " [1, 2, 3, 5, 22],\n",
       " [1, 2, 3, 5, 23],\n",
       " [1, 2, 3, 5, 24],\n",
       " [1, 2, 3, 5, 25],\n",
       " [1, 2, 3, 5, 26],\n",
       " [1, 2, 3, 5, 27],\n",
       " [1, 2, 3, 5, 28],\n",
       " [1, 2, 3, 5, 29],\n",
       " [1, 2, 3, 5, 30],\n",
       " [1, 2, 3, 5, 31],\n",
       " [1, 2, 3, 5, 32],\n",
       " [1, 2, 3, 5, 33],\n",
       " [1, 2, 3, 5, 34],\n",
       " [1, 2, 3, 5, 35],\n",
       " [1, 2, 3, 5, 36],\n",
       " [1, 2, 3, 6, 8],\n",
       " [1, 2, 3, 6, 10],\n",
       " [1, 2, 3, 6, 11],\n",
       " [1, 2, 3, 6, 12],\n",
       " [1, 2, 3, 6, 13],\n",
       " [1, 2, 3, 6, 14],\n",
       " [1, 2, 3, 6, 15],\n",
       " [1, 2, 3, 6, 16],\n",
       " [1, 2, 3, 6, 17],\n",
       " [1, 2, 3, 6, 18],\n",
       " [1, 2, 3, 6, 19],\n",
       " [1, 2, 3, 6, 20],\n",
       " [1, 2, 3, 6, 21],\n",
       " [1, 2, 3, 6, 22],\n",
       " [1, 2, 3, 6, 23],\n",
       " [1, 2, 3, 6, 24],\n",
       " [1, 2, 3, 6, 25],\n",
       " [1, 2, 3, 6, 26],\n",
       " [1, 2, 3, 6, 27],\n",
       " [1, 2, 3, 6, 28],\n",
       " [1, 2, 3, 6, 29],\n",
       " [1, 2, 3, 6, 30],\n",
       " [1, 2, 3, 6, 31],\n",
       " [1, 2, 3, 6, 32],\n",
       " [1, 2, 3, 6, 33],\n",
       " [1, 2, 3, 6, 34],\n",
       " [1, 2, 3, 6, 35],\n",
       " [1, 2, 3, 6, 36],\n",
       " [1, 2, 3, 7, 9],\n",
       " [1, 2, 3, 7, 10],\n",
       " [1, 2, 3, 7, 11],\n",
       " [1, 2, 3, 7, 12],\n",
       " [1, 2, 3, 7, 13],\n",
       " [1, 2, 3, 7, 14],\n",
       " [1, 2, 3, 7, 15],\n",
       " [1, 2, 3, 7, 16],\n",
       " [1, 2, 3, 7, 17],\n",
       " [1, 2, 3, 7, 18],\n",
       " [1, 2, 3, 7, 19],\n",
       " [1, 2, 3, 7, 20],\n",
       " [1, 2, 3, 7, 21],\n",
       " [1, 2, 3, 7, 22]]"
      ]
     },
     "execution_count": 86,
     "metadata": {},
     "output_type": "execute_result"
    }
   ],
   "source": [
    "total_comb_rem[:100]"
   ]
  },
  {
   "cell_type": "code",
   "execution_count": 87,
   "metadata": {},
   "outputs": [
    {
     "name": "stdout",
     "output_type": "stream",
     "text": [
      "344567\n"
     ]
    }
   ],
   "source": [
    "#checks\n",
    "dict_check={'even':0,'odd':0}\n",
    "for i in range(1,8):\n",
    "    dict_check[i]=0\n",
    "a=0\n",
    "for lists in total_comb_rem:\n",
    "    if list(range(lists[0],lists[-1]+1,1))[:3] == lists[:3]:\n",
    "           dict_check[1] +=1\n",
    "    elif list(range(lists[0],lists[-1]+1,2))[:3] == lists[:3]:\n",
    "        dict_check[2] +=1 \n",
    "              \n",
    "    elif list(range(lists[0],lists[-1]+1,3))[:3] == lists[:3]:\n",
    "        dict_check[3] +=1 \n",
    "    elif list(range(lists[0],lists[-1]+1,4))[:3] == lists[:3]:\n",
    "           dict_check[4] +=1\n",
    "    elif list(range(lists[0],lists[-1]+1,5))[:3] == lists[:3]:\n",
    "        dict_check[5] +=1 \n",
    "              \n",
    "    elif list(range(lists[0],lists[-1]+1,6))[:3] == lists[:3]:\n",
    "        dict_check[6] +=1 \n",
    "    elif list(range(lists[0],lists[-1]+1,7))[:3] == lists[:3]:\n",
    "        dict_check[7] +=1 \n",
    "    else:a +=1\n",
    "print(a)"
   ]
  },
  {
   "cell_type": "code",
   "execution_count": 88,
   "metadata": {},
   "outputs": [
    {
     "data": {
      "text/plain": [
       "{'even': 0,\n",
       " 'odd': 0,\n",
       " 1: 5925,\n",
       " 2: 4368,\n",
       " 3: 4029,\n",
       " 4: 2900,\n",
       " 5: 2578,\n",
       " 6: 1795,\n",
       " 7: 1531}"
      ]
     },
     "execution_count": 88,
     "metadata": {},
     "output_type": "execute_result"
    }
   ],
   "source": [
    "dict_check"
   ]
  },
  {
   "cell_type": "code",
   "execution_count": 89,
   "metadata": {},
   "outputs": [
    {
     "name": "stdout",
     "output_type": "stream",
     "text": [
      "[5, 6, 7, 22, 34]\n",
      "[21, 23, 25, 27, 34]\n",
      "[5, 6, 7, 9, 28]\n",
      "[14, 15, 16, 17, 27]\n",
      "[1, 3, 5, 18, 35]\n",
      "[8, 9, 10, 21, 36]\n",
      "[2, 4, 6, 29, 33]\n",
      "[10, 12, 14, 20, 22]\n",
      "[11, 13, 15, 19, 31]\n",
      "[10, 11, 12, 19, 23]\n",
      "[7, 9, 11, 19, 26]\n",
      "[14, 16, 18, 23, 29]\n",
      "[13, 14, 15, 24, 31]\n",
      "[30, 31, 32, 34, 36]\n",
      "[6, 8, 10, 30, 33]\n",
      "[9, 11, 13, 14, 19]\n",
      "[1, 3, 5, 14, 22]\n",
      "[19, 20, 21, 33, 34]\n",
      "[2, 4, 6, 9, 12]\n",
      "[3, 5, 7, 10, 15]\n",
      "512\n"
     ]
    }
   ],
   "source": [
    "#checks\n",
    "dict_check={'even':0,'odd':0}\n",
    "for i in range(1,8):\n",
    "    dict_check[i]=0\n",
    "a=0\n",
    "for lists in to_int:\n",
    "    if list(range(lists[0],lists[3]+1,1))[:3] == lists[:3]:\n",
    "        dict_check[1] +=1\n",
    "        print(lists)\n",
    "    elif list(range(lists[0],lists[3]+1,2))[:3] == lists[:3]:\n",
    "        dict_check[2] +=1 \n",
    "        print(lists)\n",
    "              \n",
    "    elif list(range(lists[0],lists[3]+1,3))[:3] == lists[:3]:\n",
    "        dict_check[3] +=1 \n",
    "    elif list(range(lists[0],lists[3]+1,4))[:3] == lists[:3]:\n",
    "           dict_check[4] +=1\n",
    "    elif list(range(lists[0],lists[3]+1,5))[:3] == lists[:3]:\n",
    "        dict_check[5] +=1 \n",
    "              \n",
    "    elif list(range(lists[0],lists[3]+1,6))[:3]== lists[:3]:\n",
    "        dict_check[6] +=1 \n",
    "    elif list(range(lists[0],lists[3]+1,7))[:3]== lists[:3]:\n",
    "        dict_check[7] +=1 \n",
    "    else:a +=1\n",
    "print(a)"
   ]
  },
  {
   "cell_type": "code",
   "execution_count": 90,
   "metadata": {},
   "outputs": [
    {
     "name": "stdout",
     "output_type": "stream",
     "text": [
      "[21, 23, 25, 27, 34]\n",
      "[14, 15, 16, 17, 27]\n",
      "551\n"
     ]
    }
   ],
   "source": [
    "#checks\n",
    "dict_check={'even':0,'odd':0}\n",
    "for i in range(1,8):\n",
    "    dict_check[i]=0\n",
    "a=0\n",
    "for lists in to_int:\n",
    "    if list(range(lists[0],lists[3]+1,1))[:4] == lists[:4]:\n",
    "        dict_check[1] +=1\n",
    "        print(lists)\n",
    "    elif list(range(lists[0],lists[3]+1,2))[:4] == lists[:4]:\n",
    "        dict_check[2] +=1 \n",
    "        print(lists)\n",
    "              \n",
    "    elif list(range(lists[0],lists[3]+1,3))[:4] == lists[:4]:\n",
    "        dict_check[3] +=1 \n",
    "    elif list(range(lists[0],lists[3]+1,4))[:4] == lists[:4]:\n",
    "           dict_check[4] +=1\n",
    "    elif list(range(lists[0],lists[3]+1,5))[:4] == lists[:4]:\n",
    "        dict_check[5] +=1 \n",
    "              \n",
    "    elif list(range(lists[0],lists[3]+1,6))[:4] == lists[:4]:\n",
    "        dict_check[6] +=1 \n",
    "    elif list(range(lists[0],lists[3]+1,7))[:4] == lists[:4]:\n",
    "        dict_check[7] +=1 \n",
    "    else:a +=1\n",
    "print(a)"
   ]
  },
  {
   "cell_type": "code",
   "execution_count": 91,
   "metadata": {},
   "outputs": [
    {
     "data": {
      "text/plain": [
       "{'even': 0, 'odd': 0, 1: 1, 2: 1, 3: 0, 4: 0, 5: 0, 6: 0, 7: 0}"
      ]
     },
     "execution_count": 91,
     "metadata": {},
     "output_type": "execute_result"
    }
   ],
   "source": [
    "dict_check"
   ]
  },
  {
   "cell_type": "code",
   "execution_count": 92,
   "metadata": {},
   "outputs": [
    {
     "name": "stdout",
     "output_type": "stream",
     "text": [
      "344473\n"
     ]
    }
   ],
   "source": [
    "#remove counting numbers with one deviation\n",
    "a=0\n",
    "for lists in total_comb_rem:\n",
    "    if list(range(lists[0],lists[3]+1))[:3] == lists[:3]:\n",
    "        total_comb_rem.remove(lists)\n",
    "    elif (list(range(lists[0],lists[3]+1,2))[:3] == lists[:3]) :\n",
    "        total_comb_rem.remove(lists)\n",
    "              \n",
    "    elif list(range(lists[0],lists[3]+1,3))[:3] == lists[:3]:\n",
    "        total_comb_rem.remove(lists) \n",
    "    elif list(range(lists[0],lists[3]+1,4))[:3]== lists[:3]:\n",
    "           total_comb_rem.remove(lists)\n",
    "    elif list(range(lists[0],lists[3]+1,5))[:3] == lists[:3]:\n",
    "        total_comb_rem.remove(lists)\n",
    "              \n",
    "    elif list(range(lists[0],lists[3]+1,6))[:3] == lists[:3]:\n",
    "        total_comb_rem.remove(lists) \n",
    "    elif list(range(lists[0],lists[3]+1,7))[:3] == lists[:3]:\n",
    "        total_comb_rem.remove(lists)\n",
    "    else:a +=1\n",
    "print(a)"
   ]
  },
  {
   "cell_type": "code",
   "execution_count": 94,
   "metadata": {},
   "outputs": [
    {
     "name": "stdout",
     "output_type": "stream",
     "text": [
      "356083\n"
     ]
    },
    {
     "data": {
      "text/plain": [
       "[[1, 2, 3, 4, 9],\n",
       " [1, 2, 3, 4, 11],\n",
       " [1, 2, 3, 4, 13],\n",
       " [1, 2, 3, 4, 15],\n",
       " [1, 2, 3, 4, 17],\n",
       " [1, 2, 3, 4, 19],\n",
       " [1, 2, 3, 4, 21],\n",
       " [1, 2, 3, 4, 23],\n",
       " [1, 2, 3, 4, 25],\n",
       " [1, 2, 3, 4, 27],\n",
       " [1, 2, 3, 4, 29],\n",
       " [1, 2, 3, 4, 31],\n",
       " [1, 2, 3, 4, 33],\n",
       " [1, 2, 3, 4, 35],\n",
       " [1, 2, 3, 5, 7],\n",
       " [1, 2, 3, 5, 10],\n",
       " [1, 2, 3, 5, 12],\n",
       " [1, 2, 3, 5, 14],\n",
       " [1, 2, 3, 5, 16],\n",
       " [1, 2, 3, 5, 18]]"
      ]
     },
     "execution_count": 94,
     "metadata": {},
     "output_type": "execute_result"
    }
   ],
   "source": [
    "print(len(total_comb_rem))\n",
    "total_comb_rem[:20]\n"
   ]
  },
  {
   "cell_type": "code",
   "execution_count": 95,
   "metadata": {},
   "outputs": [],
   "source": [
    "for i in to_int:\n",
    "    if i[0]==1 & i[1]==2 & i[2]==3:\n",
    "        print(i)"
   ]
  },
  {
   "cell_type": "code",
   "execution_count": 96,
   "metadata": {},
   "outputs": [
    {
     "data": {
      "text/plain": [
       "dict_keys([1, 2, 3, 4, 5, 6, 7, 8, 9, 10, 11, 12, 13, 14, 15, 16, 17, 18, 19, 20, 21, 22, 23, 24, 30])"
      ]
     },
     "execution_count": 96,
     "metadata": {},
     "output_type": "execute_result"
    }
   ],
   "source": [
    "freq.keys()"
   ]
  },
  {
   "cell_type": "code",
   "execution_count": 97,
   "metadata": {},
   "outputs": [
    {
     "data": {
      "text/plain": [
       "{'[2, 4, 5]': 1,\n",
       " '[7, 13, 14]': 1,\n",
       " '[4, 12, 16]': 1,\n",
       " '[23, 29, 30]': 1,\n",
       " '[4, 13, 16]': 1,\n",
       " '[6, 12, 23]': 1,\n",
       " '[8, 11, 16]': 1,\n",
       " '[5, 11, 19]': 1,\n",
       " '[2, 12, 13]': 1,\n",
       " '[3, 17, 24]': 1,\n",
       " '[3, 7, 20]': 1,\n",
       " '[1, 5, 9]': 1,\n",
       " '[5, 11, 21]': 1,\n",
       " '[5, 12, 16]': 1,\n",
       " '[8, 10, 20]': 1,\n",
       " '[4, 19, 20]': 1,\n",
       " '[5, 6, 7]': 1,\n",
       " '[6, 9, 21]': 1,\n",
       " '[11, 20, 27]': 1,\n",
       " '[5, 9, 11]': 1,\n",
       " '[5, 7, 19]': 1,\n",
       " '[4, 14, 22]': 1,\n",
       " '[6, 8, 9]': 1,\n",
       " '[8, 9, 22]': 1,\n",
       " '[2, 21, 29]': 1,\n",
       " '[1, 16, 21]': 1,\n",
       " '[3, 6, 9]': 1,\n",
       " '[4, 8, 22]': 1,\n",
       " '[1, 21, 30]': 1,\n",
       " '[3, 4, 14]': 1,\n",
       " '[16, 22, 26]': 1,\n",
       " '[22, 23, 28]': 1,\n",
       " '[4, 12, 17]': 1,\n",
       " '[9, 25, 34]': 1,\n",
       " '[2, 7, 15]': 1,\n",
       " '[4, 8, 18]': 1,\n",
       " '[6, 12, 19]': 1,\n",
       " '[11, 22, 27]': 1,\n",
       " '[6, 15, 19]': 1,\n",
       " '[4, 11, 12]': 1,\n",
       " '[4, 8, 19]': 1,\n",
       " '[21, 23, 25]': 1,\n",
       " '[7, 14, 20]': 1,\n",
       " '[6, 16, 18]': 1,\n",
       " '[1, 2, 9]': 1,\n",
       " '[5, 7, 16]': 1,\n",
       " '[8, 12, 15]': 1,\n",
       " '[7, 13, 17]': 1,\n",
       " '[2, 7, 9]': 1,\n",
       " '[9, 13, 26]': 1,\n",
       " '[10, 20, 23]': 1,\n",
       " '[1, 2, 7]': 1,\n",
       " '[13, 23, 30]': 1,\n",
       " '[3, 5, 19]': 1,\n",
       " '[2, 16, 20]': 1,\n",
       " '[5, 9, 13]': 1,\n",
       " '[6, 8, 21]': 1,\n",
       " '[6, 21, 24]': 1,\n",
       " '[2, 12, 20]': 1,\n",
       " '[6, 9, 15]': 1,\n",
       " '[12, 15, 17]': 1,\n",
       " '[18, 21, 24]': 1,\n",
       " '[2, 5, 6]': 1,\n",
       " '[18, 23, 28]': 1,\n",
       " '[2, 9, 22]': 1,\n",
       " '[10, 16, 19]': 1,\n",
       " '[1, 3, 10]': 1,\n",
       " '[4, 17, 21]': 1,\n",
       " '[2, 8, 18]': 1,\n",
       " '[19, 27, 28]': 1,\n",
       " '[6, 16, 17]': 1,\n",
       " '[2, 13, 15]': 1,\n",
       " '[4, 18, 20]': 1,\n",
       " '[2, 9, 17]': 1,\n",
       " '[9, 15, 18]': 1,\n",
       " '[6, 11, 19]': 1,\n",
       " '[5, 7, 8]': 1,\n",
       " '[1, 17, 18]': 1,\n",
       " '[10, 11, 14]': 1,\n",
       " '[5, 6, 22]': 1,\n",
       " '[13, 20, 29]': 1,\n",
       " '[13, 15, 24]': 1,\n",
       " '[21, 22, 24]': 1,\n",
       " '[2, 8, 10]': 1,\n",
       " '[1, 3, 9]': 1,\n",
       " '[6, 7, 13]': 1,\n",
       " '[2, 17, 26]': 1,\n",
       " '[11, 17, 27]': 1,\n",
       " '[3, 4, 8]': 1,\n",
       " '[6, 12, 13]': 1,\n",
       " '[8, 9, 28]': 1,\n",
       " '[19, 21, 22]': 1,\n",
       " '[3, 11, 14]': 1,\n",
       " '[4, 12, 13]': 1,\n",
       " '[10, 27, 31]': 1,\n",
       " '[2, 20, 21]': 1,\n",
       " '[2, 10, 14]': 1,\n",
       " '[14, 17, 23]': 1,\n",
       " '[7, 23, 26]': 1,\n",
       " '[10, 12, 15]': 1,\n",
       " '[12, 20, 27]': 1,\n",
       " '[11, 12, 21]': 1,\n",
       " '[2, 3, 9]': 1,\n",
       " '[8, 11, 14]': 1,\n",
       " '[5, 25, 29]': 1,\n",
       " '[4, 6, 20]': 1,\n",
       " '[1, 3, 11]': 1,\n",
       " '[3, 10, 12]': 1,\n",
       " '[2, 4, 14]': 1,\n",
       " '[6, 10, 25]': 1,\n",
       " '[1, 9, 12]': 1,\n",
       " '[5, 20, 23]': 1,\n",
       " '[1, 4, 10]': 1,\n",
       " '[14, 17, 24]': 1,\n",
       " '[2, 3, 16]': 1,\n",
       " '[6, 8, 13]': 1,\n",
       " '[17, 24, 26]': 1,\n",
       " '[2, 5, 9]': 1,\n",
       " '[14, 20, 22]': 1,\n",
       " '[2, 5, 12]': 1,\n",
       " '[17, 27, 28]': 1,\n",
       " '[12, 15, 16]': 1,\n",
       " '[16, 23, 26]': 1,\n",
       " '[7, 20, 23]': 1,\n",
       " '[7, 18, 23]': 1,\n",
       " '[6, 13, 21]': 1,\n",
       " '[1, 2, 22]': 1,\n",
       " '[2, 9, 11]': 1,\n",
       " '[2, 6, 15]': 1,\n",
       " '[2, 5, 8]': 1,\n",
       " '[4, 19, 21]': 1,\n",
       " '[2, 9, 23]': 1,\n",
       " '[7, 18, 21]': 1,\n",
       " '[2, 12, 26]': 1,\n",
       " '[6, 15, 17]': 1,\n",
       " '[5, 14, 20]': 1,\n",
       " '[3, 13, 22]': 1,\n",
       " '[14, 15, 16]': 1,\n",
       " '[3, 6, 7]': 1,\n",
       " '[7, 9, 15]': 1,\n",
       " '[10, 13, 15]': 1,\n",
       " '[10, 15, 20]': 1,\n",
       " '[3, 8, 21]': 1,\n",
       " '[13, 14, 27]': 1,\n",
       " '[3, 15, 21]': 1,\n",
       " '[12, 21, 25]': 1,\n",
       " '[5, 11, 13]': 1,\n",
       " '[1, 7, 12]': 1,\n",
       " '[6, 14, 15]': 1,\n",
       " '[2, 3, 10]': 1,\n",
       " '[3, 18, 19]': 1,\n",
       " '[13, 19, 27]': 1,\n",
       " '[2, 5, 13]': 1,\n",
       " '[5, 14, 18]': 1,\n",
       " '[2, 6, 17]': 1,\n",
       " '[9, 14, 20]': 1,\n",
       " '[9, 13, 22]': 1,\n",
       " '[6, 10, 11]': 1,\n",
       " '[4, 20, 28]': 1,\n",
       " '[4, 19, 29]': 1,\n",
       " '[8, 11, 18]': 1,\n",
       " '[8, 16, 20]': 1,\n",
       " '[11, 23, 26]': 1,\n",
       " '[6, 8, 19]': 1,\n",
       " '[3, 10, 25]': 1,\n",
       " '[7, 9, 23]': 1,\n",
       " '[15, 22, 24]': 1,\n",
       " '[4, 8, 13]': 1,\n",
       " '[2, 6, 9]': 1,\n",
       " '[2, 11, 12]': 1,\n",
       " '[2, 20, 24]': 1,\n",
       " '[1, 3, 5]': 1,\n",
       " '[1, 7, 9]': 1,\n",
       " '[8, 13, 14]': 1,\n",
       " '[2, 10, 13]': 1,\n",
       " '[4, 10, 17]': 1,\n",
       " '[8, 9, 10]': 1,\n",
       " '[4, 6, 25]': 1,\n",
       " '[15, 26, 32]': 1,\n",
       " '[1, 3, 4]': 1,\n",
       " '[4, 7, 19]': 1,\n",
       " '[7, 14, 15]': 1,\n",
       " '[2, 11, 25]': 1,\n",
       " '[7, 14, 26]': 1,\n",
       " '[19, 23, 26]': 1,\n",
       " '[4, 8, 17]': 1,\n",
       " '[8, 9, 17]': 1,\n",
       " '[8, 14, 20]': 1,\n",
       " '[13, 15, 21]': 1,\n",
       " '[1, 2, 4]': 1,\n",
       " '[6, 17, 20]': 1,\n",
       " '[4, 13, 14]': 1,\n",
       " '[7, 22, 25]': 1,\n",
       " '[13, 22, 32]': 1,\n",
       " '[5, 18, 28]': 1,\n",
       " '[6, 15, 23]': 1,\n",
       " '[15, 17, 30]': 1,\n",
       " '[6, 9, 20]': 1,\n",
       " '[16, 22, 29]': 1,\n",
       " '[3, 6, 10]': 1,\n",
       " '[3, 16, 18]': 1,\n",
       " '[12, 14, 19]': 1,\n",
       " '[2, 4, 25]': 1,\n",
       " '[5, 6, 11]': 1,\n",
       " '[19, 20, 28]': 1,\n",
       " '[9, 13, 14]': 1,\n",
       " '[2, 5, 17]': 1,\n",
       " '[9, 15, 16]': 1,\n",
       " '[6, 10, 21]': 1,\n",
       " '[1, 16, 17]': 1,\n",
       " '[6, 11, 14]': 1,\n",
       " '[11, 22, 25]': 1,\n",
       " '[1, 12, 21]': 1,\n",
       " '[7, 15, 21]': 1,\n",
       " '[8, 16, 24]': 1,\n",
       " '[1, 6, 17]': 1,\n",
       " '[6, 7, 11]': 1,\n",
       " '[5, 9, 19]': 1,\n",
       " '[8, 13, 18]': 1,\n",
       " '[6, 7, 15]': 1,\n",
       " '[3, 11, 12]': 1,\n",
       " '[14, 16, 25]': 1,\n",
       " '[5, 26, 29]': 1,\n",
       " '[11, 15, 17]': 1,\n",
       " '[5, 8, 24]': 1,\n",
       " '[5, 8, 14]': 1,\n",
       " '[2, 4, 6]': 1,\n",
       " '[3, 5, 20]': 1,\n",
       " '[5, 15, 16]': 1,\n",
       " '[18, 26, 30]': 1,\n",
       " '[13, 18, 21]': 1,\n",
       " '[1, 23, 28]': 1,\n",
       " '[4, 14, 19]': 1,\n",
       " '[8, 12, 18]': 1,\n",
       " '[2, 8, 11]': 1,\n",
       " '[9, 16, 20]': 1,\n",
       " '[3, 6, 24]': 1,\n",
       " '[3, 5, 15]': 1,\n",
       " '[10, 12, 14]': 1,\n",
       " '[8, 23, 27]': 1,\n",
       " '[2, 7, 17]': 1,\n",
       " '[4, 5, 19]': 1,\n",
       " '[3, 17, 23]': 1,\n",
       " '[5, 18, 30]': 1,\n",
       " '[1, 7, 14]': 1,\n",
       " '[5, 10, 15]': 1,\n",
       " '[6, 16, 24]': 1,\n",
       " '[11, 13, 15]': 1,\n",
       " '[6, 20, 23]': 1,\n",
       " '[4, 17, 24]': 1,\n",
       " '[13, 15, 27]': 1,\n",
       " '[8, 14, 16]': 1,\n",
       " '[5, 21, 22]': 1,\n",
       " '[3, 10, 23]': 1,\n",
       " '[1, 15, 23]': 1,\n",
       " '[16, 17, 24]': 1,\n",
       " '[1, 5, 6]': 1,\n",
       " '[7, 20, 30]': 1,\n",
       " '[4, 5, 10]': 1,\n",
       " '[2, 9, 13]': 1,\n",
       " '[10, 11, 12]': 1,\n",
       " '[1, 21, 24]': 1,\n",
       " '[3, 7, 10]': 1,\n",
       " '[9, 12, 17]': 1,\n",
       " '[2, 7, 10]': 1,\n",
       " '[2, 16, 19]': 1,\n",
       " '[7, 9, 11]': 1,\n",
       " '[1, 18, 29]': 1,\n",
       " '[5, 9, 15]': 1,\n",
       " '[2, 5, 16]': 1,\n",
       " '[9, 10, 12]': 1,\n",
       " '[4, 10, 16]': 1,\n",
       " '[11, 16, 17]': 1,\n",
       " '[7, 10, 19]': 1,\n",
       " '[1, 7, 11]': 1,\n",
       " '[14, 16, 18]': 1,\n",
       " '[1, 11, 16]': 1,\n",
       " '[2, 16, 25]': 1,\n",
       " '[3, 10, 17]': 1,\n",
       " '[12, 21, 28]': 1,\n",
       " '[4, 8, 9]': 1,\n",
       " '[1, 3, 16]': 1,\n",
       " '[18, 20, 30]': 1,\n",
       " '[12, 14, 22]': 1,\n",
       " '[5, 9, 14]': 1,\n",
       " '[1, 18, 22]': 1,\n",
       " '[3, 5, 13]': 1,\n",
       " '[15, 18, 23]': 1,\n",
       " '[5, 8, 12]': 1,\n",
       " '[1, 15, 30]': 1,\n",
       " '[9, 17, 24]': 1,\n",
       " '[16, 20, 29]': 1,\n",
       " '[3, 13, 18]': 1,\n",
       " '[7, 16, 21]': 1,\n",
       " '[3, 13, 16]': 1,\n",
       " '[3, 6, 12]': 1,\n",
       " '[24, 26, 30]': 1,\n",
       " '[1, 8, 9]': 1,\n",
       " '[11, 17, 19]': 1,\n",
       " '[13, 14, 15]': 1,\n",
       " '[9, 25, 27]': 1,\n",
       " '[10, 16, 21]': 1,\n",
       " '[1, 10, 12]': 1,\n",
       " '[1, 6, 13]': 1,\n",
       " '[4, 13, 20]': 1,\n",
       " '[4, 20, 29]': 1,\n",
       " '[30, 31, 32]': 1,\n",
       " '[12, 13, 22]': 1,\n",
       " '[6, 17, 25]': 1,\n",
       " '[3, 8, 11]': 1,\n",
       " '[6, 9, 11]': 1,\n",
       " '[8, 14, 15]': 1,\n",
       " '[4, 5, 11]': 1,\n",
       " '[4, 6, 18]': 1,\n",
       " '[1, 5, 12]': 1,\n",
       " '[6, 8, 10]': 1,\n",
       " '[10, 24, 29]': 1,\n",
       " '[14, 19, 23]': 1,\n",
       " '[9, 25, 32]': 1,\n",
       " '[1, 6, 7]': 1,\n",
       " '[3, 11, 20]': 1,\n",
       " '[16, 25, 27]': 1,\n",
       " '[1, 5, 16]': 1,\n",
       " '[1, 7, 24]': 1,\n",
       " '[1, 11, 14]': 1,\n",
       " '[11, 12, 18]': 1,\n",
       " '[10, 12, 25]': 1,\n",
       " '[1, 13, 14]': 1,\n",
       " '[3, 10, 18]': 1,\n",
       " '[7, 9, 10]': 1,\n",
       " '[1, 21, 23]': 1,\n",
       " '[4, 12, 14]': 1,\n",
       " '[14, 15, 20]': 1,\n",
       " '[13, 22, 29]': 1,\n",
       " '[1, 5, 10]': 1,\n",
       " '[2, 10, 17]': 1,\n",
       " '[1, 25, 30]': 1,\n",
       " '[2, 16, 21]': 1,\n",
       " '[4, 25, 30]': 1,\n",
       " '[7, 11, 17]': 1,\n",
       " '[10, 17, 25]': 1,\n",
       " '[5, 24, 33]': 1,\n",
       " '[10, 21, 22]': 1,\n",
       " '[4, 8, 29]': 1,\n",
       " '[1, 13, 22]': 1,\n",
       " '[13, 24, 29]': 1,\n",
       " '[1, 9, 13]': 1,\n",
       " '[5, 9, 25]': 1,\n",
       " '[18, 25, 26]': 1,\n",
       " '[4, 14, 15]': 1,\n",
       " '[6, 12, 20]': 1,\n",
       " '[12, 28, 33]': 1,\n",
       " '[2, 5, 7]': 1,\n",
       " '[9, 14, 24]': 1,\n",
       " '[14, 15, 18]': 1,\n",
       " '[4, 9, 18]': 1,\n",
       " '[18, 21, 28]': 1,\n",
       " '[2, 7, 12]': 1,\n",
       " '[3, 8, 19]': 1,\n",
       " '[3, 5, 25]': 1,\n",
       " '[1, 23, 31]': 1,\n",
       " '[2, 15, 28]': 1,\n",
       " '[17, 22, 23]': 1,\n",
       " '[3, 5, 6]': 1,\n",
       " '[4, 13, 22]': 1,\n",
       " '[13, 21, 24]': 1,\n",
       " '[7, 8, 23]': 1,\n",
       " '[12, 23, 25]': 1,\n",
       " '[5, 12, 14]': 1,\n",
       " '[9, 13, 15]': 1,\n",
       " '[9, 12, 20]': 1,\n",
       " '[1, 19, 22]': 1,\n",
       " '[15, 25, 27]': 1,\n",
       " '[11, 19, 20]': 1,\n",
       " '[3, 9, 12]': 1,\n",
       " '[2, 15, 27]': 1,\n",
       " '[8, 13, 15]': 1,\n",
       " '[16, 24, 26]': 1,\n",
       " '[19, 24, 25]': 1,\n",
       " '[7, 16, 18]': 1,\n",
       " '[3, 13, 14]': 1,\n",
       " '[7, 14, 16]': 1,\n",
       " '[3, 12, 14]': 1,\n",
       " '[6, 15, 18]': 1,\n",
       " '[5, 15, 18]': 1,\n",
       " '[12, 13, 28]': 1,\n",
       " '[14, 15, 19]': 1,\n",
       " '[20, 25, 28]': 1,\n",
       " '[9, 12, 24]': 1,\n",
       " '[12, 28, 34]': 1,\n",
       " '[3, 6, 21]': 1,\n",
       " '[7, 10, 25]': 1,\n",
       " '[12, 18, 22]': 1,\n",
       " '[1, 12, 18]': 1,\n",
       " '[4, 6, 15]': 1,\n",
       " '[1, 16, 19]': 1,\n",
       " '[1, 3, 17]': 1,\n",
       " '[9, 11, 13]': 1,\n",
       " '[5, 9, 29]': 1,\n",
       " '[9, 12, 29]': 1,\n",
       " '[1, 13, 20]': 1,\n",
       " '[3, 8, 22]': 1,\n",
       " '[4, 10, 23]': 1,\n",
       " '[7, 10, 14]': 1,\n",
       " '[2, 4, 8]': 1,\n",
       " '[1, 6, 29]': 1,\n",
       " '[15, 18, 19]': 1,\n",
       " '[3, 15, 23]': 1,\n",
       " '[1, 14, 19]': 1,\n",
       " '[23, 24, 27]': 1,\n",
       " '[5, 11, 14]': 1,\n",
       " '[5, 14, 16]': 1,\n",
       " '[10, 21, 32]': 1,\n",
       " '[7, 11, 12]': 1,\n",
       " '[8, 22, 26]': 1,\n",
       " '[6, 11, 20]': 1,\n",
       " '[1, 2, 19]': 1,\n",
       " '[2, 12, 24]': 1,\n",
       " '[5, 8, 11]': 1,\n",
       " '[2, 7, 20]': 1,\n",
       " '[6, 14, 16]': 1,\n",
       " '[4, 6, 13]': 1,\n",
       " '[4, 10, 14]': 1,\n",
       " '[22, 24, 31]': 1,\n",
       " '[7, 11, 19]': 1,\n",
       " '[2, 5, 20]': 1,\n",
       " '[5, 11, 15]': 1,\n",
       " '[3, 9, 18]': 1,\n",
       " '[2, 14, 16]': 1,\n",
       " '[2, 10, 15]': 1,\n",
       " '[1, 12, 13]': 1,\n",
       " '[3, 12, 13]': 1,\n",
       " '[2, 12, 18]': 1,\n",
       " '[2, 11, 13]': 1,\n",
       " '[10, 14, 16]': 1,\n",
       " '[9, 15, 28]': 1,\n",
       " '[3, 15, 16]': 1,\n",
       " '[19, 20, 21]': 1,\n",
       " '[9, 12, 28]': 1,\n",
       " '[7, 16, 20]': 1,\n",
       " '[10, 29, 30]': 1,\n",
       " '[11, 21, 29]': 1,\n",
       " '[5, 8, 10]': 1,\n",
       " '[9, 14, 29]': 1,\n",
       " '[5, 18, 20]': 1,\n",
       " '[3, 5, 12]': 1,\n",
       " '[4, 6, 14]': 1,\n",
       " '[5, 19, 21]': 1,\n",
       " '[2, 25, 29]': 1,\n",
       " '[1, 20, 22]': 1,\n",
       " '[5, 6, 10]': 1,\n",
       " '[3, 8, 12]': 1,\n",
       " '[12, 13, 15]': 1,\n",
       " '[9, 11, 18]': 1,\n",
       " '[1, 5, 15]': 1,\n",
       " '[6, 13, 27]': 1,\n",
       " '[7, 24, 25]': 1,\n",
       " '[1, 4, 14]': 1,\n",
       " '[5, 6, 12]': 1,\n",
       " '[4, 8, 14]': 1,\n",
       " '[4, 5, 7]': 1,\n",
       " '[7, 9, 14]': 1,\n",
       " '[2, 6, 29]': 1,\n",
       " '[3, 5, 21]': 1,\n",
       " '[6, 12, 22]': 1,\n",
       " '[7, 12, 19]': 1,\n",
       " '[3, 5, 7]': 1,\n",
       " '[6, 18, 24]': 1,\n",
       " '[4, 6, 7]': 1,\n",
       " '[5, 21, 25]': 1,\n",
       " '[5, 8, 16]': 1,\n",
       " '[2, 9, 10]': 1,\n",
       " '[1, 9, 10]': 1,\n",
       " '[9, 10, 24]': 1,\n",
       " '[12, 17, 31]': 1,\n",
       " '[6, 8, 11]': 1,\n",
       " '[22, 26, 29]': 1,\n",
       " '[6, 7, 21]': 1,\n",
       " '[1, 11, 12]': 1,\n",
       " '[2, 3, 24]': 1,\n",
       " '[8, 14, 25]': 1,\n",
       " '[5, 18, 21]': 1,\n",
       " '[4, 14, 24]': 1,\n",
       " '[9, 14, 18]': 1,\n",
       " '[1, 6, 16]': 1,\n",
       " '[14, 17, 21]': 1}"
      ]
     },
     "execution_count": 97,
     "metadata": {},
     "output_type": "execute_result"
    }
   ],
   "source": [
    "first_3 = {}\n",
    "for lists in to_int:\n",
    "    a = json.dumps(lists[:3])\n",
    "    #s = ''.join(a)\n",
    "    if (list(range(lists[0],lists[3]+1,1))[:4] == lists[:4]) & (a in list(first_3.keys())):\n",
    "        first_3[a] +=1\n",
    "    else: first_3[a] =1\n",
    "        \n",
    "first_3"
   ]
  },
  {
   "cell_type": "code",
   "execution_count": 98,
   "metadata": {},
   "outputs": [],
   "source": [
    "for lists in to_int:\n",
    "\n",
    "    if (list(range(lists[0],lists[3]+1,1))[:4] == lists[:4]) & (a in list(first_3.keys())):\n",
    "        first_3[a] +=1\n",
    "    else: first_3[a] =1"
   ]
  },
  {
   "cell_type": "code",
   "execution_count": 99,
   "metadata": {},
   "outputs": [
    {
     "data": {
      "text/plain": [
       "486"
      ]
     },
     "execution_count": 99,
     "metadata": {},
     "output_type": "execute_result"
    }
   ],
   "source": [
    "len(first_3)"
   ]
  },
  {
   "cell_type": "code",
   "execution_count": 184,
   "metadata": {},
   "outputs": [],
   "source": [
    "#export to csv\n",
    "pd.DataFrame({\"winning numbers\":total_comb_rem}).to_csv('winnnig_number.csv')"
   ]
  },
  {
   "cell_type": "code",
   "execution_count": 191,
   "metadata": {},
   "outputs": [
    {
     "data": {
      "text/html": [
       "<div>\n",
       "<style scoped>\n",
       "    .dataframe tbody tr th:only-of-type {\n",
       "        vertical-align: middle;\n",
       "    }\n",
       "\n",
       "    .dataframe tbody tr th {\n",
       "        vertical-align: top;\n",
       "    }\n",
       "\n",
       "    .dataframe thead th {\n",
       "        text-align: right;\n",
       "    }\n",
       "</style>\n",
       "<table border=\"1\" class=\"dataframe\">\n",
       "  <thead>\n",
       "    <tr style=\"text-align: right;\">\n",
       "      <th></th>\n",
       "      <th>index</th>\n",
       "      <th>Draw Date</th>\n",
       "      <th>Results</th>\n",
       "      <th>Number of Winners</th>\n",
       "    </tr>\n",
       "  </thead>\n",
       "  <tbody>\n",
       "    <tr>\n",
       "      <th>5</th>\n",
       "      <td>5</td>\n",
       "      <td>Thursday 26 December 2019</td>\n",
       "      <td>[6, 12, 23, 25, 36]</td>\n",
       "      <td>61556</td>\n",
       "    </tr>\n",
       "  </tbody>\n",
       "</table>\n",
       "</div>"
      ],
      "text/plain": [
       "   index                  Draw Date              Results  Number of Winners\n",
       "5      5  Thursday 26 December 2019  [6, 12, 23, 25, 36]              61556"
      ]
     },
     "execution_count": 191,
     "metadata": {},
     "output_type": "execute_result"
    }
   ],
   "source": [
    "daily_lotto_2020.loc[[5]]"
   ]
  },
  {
   "cell_type": "code",
   "execution_count": 195,
   "metadata": {},
   "outputs": [],
   "source": [
    "exec('int')"
   ]
  }
 ],
 "metadata": {
  "kernelspec": {
   "display_name": "Python 3",
   "language": "python",
   "name": "python3"
  },
  "language_info": {
   "codemirror_mode": {
    "name": "ipython",
    "version": 3
   },
   "file_extension": ".py",
   "mimetype": "text/x-python",
   "name": "python",
   "nbconvert_exporter": "python",
   "pygments_lexer": "ipython3",
   "version": "3.8.1"
  }
 },
 "nbformat": 4,
 "nbformat_minor": 4
}
